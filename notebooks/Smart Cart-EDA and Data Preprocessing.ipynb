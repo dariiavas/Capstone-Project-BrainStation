{
 "cells": [
  {
   "cell_type": "markdown",
   "id": "bf615e5a",
   "metadata": {},
   "source": [
    "# Smart Cart Analytics\n",
    "\n",
    "## Sprint 1: Project Initiation"
   ]
  },
  {
   "cell_type": "markdown",
   "id": "bfd7eec4",
   "metadata": {},
   "source": [
    "## EDA and Data Preprocessing <a id='EDA'></a>\n",
    "Prepared by Dariia Vasylieva\n",
    "\n",
    "Email: daria.vasylieva@gmail.com\n",
    "\n",
    "November 2023"
   ]
  },
  {
   "cell_type": "markdown",
   "id": "7e5fc531",
   "metadata": {},
   "source": [
    "# Introduction\n",
    "\n",
    "### The Problem Area\n",
    "Grocery & Food Delivery: The grocery and food delivery business has been growing rapidly in recent years, with many customers adopting this new habit during the COVID 19 pandemic and continuing to buy food online in a post COVID world.\n",
    "\n",
    "**Challenges and opportunities to address:**\n",
    "1. **Predicting Future Purchase Behavior:** With evolving customer habits, past purchase data may not be a reliable predictor of future behavior.\n",
    "2. **Demand Forecasting and Inventory Demand:** Industry growth, shifts in customer loyalty, and habits can influence demand unpredictably.\n",
    "3. **Increasing Order Value:** Customers might be more open to suggestions but can also be unpredictable in their purchasing habits.\n",
    "\n",
    "### The User\n",
    "This project's insights will benefit business owners, investors, and stakeholders within the grocery and food delivery ecosystem.\n",
    "\n",
    "### The Big Idea\n",
    "Machine learning offers robust methodologies to address the identified challenges:\n",
    "\n",
    "- **Predicting Future Purchase Behavior:** Utilizing Recommendation Systems, Clustering, Classification, and Sequence Prediction Models.\n",
    "- **Demand Forecasting:** Implementing Time Series Forecasting, Regression Analysis, and Deep Learning Models.\n",
    "- **Cross-Selling Products:** Leveraging Association Rule Mining, Collaborative Filtering, and Content-Based Filtering.\n",
    "\n",
    "### The Impact\n",
    "The societal and business implications are significant:\n",
    "\n",
    "- **Demand Forecasting:** Inaccurate forecasting leads to approximately $1.1 trillion in global retailer costs annually. Improved predictions can slash these costs and boost sales by 10-20%.\n",
    "- **Seasonal Forecasting:** Forecasting errors can incur up to 30% in lost sales during peak periods. Environmentally, unsold inventory, like in the fashion sector, contributes to substantial waste and CO2 emissions.\n",
    "- **Cross-Selling:** Amazon reports that 35% of its revenue comes from its recommendation engine, a strategy that can translate into billions of dollars for major e-commerce platforms.\n",
    "\n",
    "## Dataset Overview\n",
    "The dataset, sourced from Instacart's \"The Instacart Online Grocery Shopping Dataset 2017\", part of the Kaggle community competition in 2017, comprises over 3 million grocery orders from more than 200,000 users. It includes detailed order sequences, product information, and user purchase times.\n",
    "\n",
    "In this notebook, we delve into Exploratory Data Analysis (EDA) to extract meaningful insights, discern patterns and correlations, and spot notable trends within the data."
   ]
  },
  {
   "cell_type": "markdown",
   "id": "4120cbbf",
   "metadata": {},
   "source": [
    "### Data Dictionary\n",
    "\n",
    "Our dataset includes the following files: **orders.csv, order_products__prior.csv, order_products__train.csv, products.csv, aisles.csv, and departments.csv.** Includes the following fields:"
   ]
  },
  {
   "cell_type": "markdown",
   "id": "adde1ba9",
   "metadata": {},
   "source": [
    "#### Aisles:\n",
    "\n",
    "|Features|Description |\n",
    "|:------------|:------------|\n",
    "| aisle_id | Unique ID for aisle |\n",
    "| aisle | The name of the aisle |\n",
    "\n",
    "#### Departments:\n",
    "\n",
    "|Features|Description |\n",
    "|:------------|:------------|\n",
    "| department_id | Unique ID for department |\n",
    "| department | The name of the department |\n",
    "\n",
    "#### Products:\n",
    "\n",
    "| Column | Description |\n",
    "|:------------|:------------|\n",
    "| product_id | Unique ID for a product |\n",
    "| product_name | The name of the product |\n",
    "| aisle_id | Aisle ID |\n",
    "| department_id | Department ID |\n",
    "\n",
    "#### Order_products_train:\n",
    "\n",
    "|Features|Description |\n",
    "|:------------|:------------|\n",
    "| order_id | Unique ID for order |\n",
    "| product_id | Unique ID for a product |\n",
    "| add_to_cart_order | Order in which each product was added to cart |\n",
    "| reordered | Indicator if the product was reordered (1) or not (0) |\n",
    "\n",
    "#### Order_products_prior:\n",
    "\n",
    "|Features|Description |\n",
    "|:------------|:------------|\n",
    "| order_id | Unique ID for order |\n",
    "| product_id | Unique ID for a product |\n",
    "| add_to_cart_order | Order in which each product was added to cart |\n",
    "| reordered | Indicator if the product was reordered (1) or not (0) |\n",
    "\n",
    "#### Orders:\n",
    "\n",
    "| Features | Description |\n",
    "|:------------|:------------|\n",
    "| order_id | Unique ID for order |\n",
    "| user_id | Unique ID for a user |\n",
    "| eval_set | Which evaluation set this order belongs in |\n",
    "| order_number | The order sequence number for this user |\n",
    "| order_dow | The day of the week the order was placed on |\n",
    "| order_hour_of_day | The hour of the day the order was placed |\n",
    "| days_since_prior_order | Days since the last order was placed |"
   ]
  },
  {
   "cell_type": "markdown",
   "id": "8e53e37a",
   "metadata": {},
   "source": [
    "# INDEX\n",
    "\n",
    "[EDA and Data Preprocessing](#EDA)\n",
    "\n",
    "- [Part 1: Data Exploration](#Reading)\n",
    "- [Part 2: EDA](#Part2)\n",
    "- [Hyphothesis](#H)\n",
    "<a id='INDEX'></a>"
   ]
  },
  {
   "cell_type": "markdown",
   "id": "7d21afbc",
   "metadata": {},
   "source": [
    "## Data Exploration\n",
    "\n",
    "Reading in the data and performing any required data cleaning steps\n",
    "\n",
    "<a id='Reading'></a>"
   ]
  },
  {
   "cell_type": "code",
   "execution_count": 5,
   "id": "6ac85fec",
   "metadata": {},
   "outputs": [],
   "source": [
    " # importing required libraries:\n",
    "import pandas as pd\n",
    "import numpy as np\n",
    "import matplotlib.pyplot as plt\n",
    "import seaborn as sns"
   ]
  },
  {
   "cell_type": "markdown",
   "id": "8ff6fb9b",
   "metadata": {},
   "source": [
    "Let´s read the data and check if any cleaning should be done (sanity checks). \n",
    "\n",
    "#### Let´s have an overview at **Aisles** and **Departments** data sets:"
   ]
  },
  {
   "cell_type": "code",
   "execution_count": 6,
   "id": "75ec6f82",
   "metadata": {
    "scrolled": true
   },
   "outputs": [
    {
     "data": {
      "text/html": [
       "<div>\n",
       "<style scoped>\n",
       "    .dataframe tbody tr th:only-of-type {\n",
       "        vertical-align: middle;\n",
       "    }\n",
       "\n",
       "    .dataframe tbody tr th {\n",
       "        vertical-align: top;\n",
       "    }\n",
       "\n",
       "    .dataframe thead th {\n",
       "        text-align: right;\n",
       "    }\n",
       "</style>\n",
       "<table border=\"1\" class=\"dataframe\">\n",
       "  <thead>\n",
       "    <tr style=\"text-align: right;\">\n",
       "      <th></th>\n",
       "      <th>aisle_id</th>\n",
       "      <th>aisle</th>\n",
       "    </tr>\n",
       "  </thead>\n",
       "  <tbody>\n",
       "    <tr>\n",
       "      <th>0</th>\n",
       "      <td>1</td>\n",
       "      <td>prepared soups salads</td>\n",
       "    </tr>\n",
       "    <tr>\n",
       "      <th>1</th>\n",
       "      <td>2</td>\n",
       "      <td>specialty cheeses</td>\n",
       "    </tr>\n",
       "    <tr>\n",
       "      <th>2</th>\n",
       "      <td>3</td>\n",
       "      <td>energy granola bars</td>\n",
       "    </tr>\n",
       "    <tr>\n",
       "      <th>3</th>\n",
       "      <td>4</td>\n",
       "      <td>instant foods</td>\n",
       "    </tr>\n",
       "    <tr>\n",
       "      <th>4</th>\n",
       "      <td>5</td>\n",
       "      <td>marinades meat preparation</td>\n",
       "    </tr>\n",
       "    <tr>\n",
       "      <th>...</th>\n",
       "      <td>...</td>\n",
       "      <td>...</td>\n",
       "    </tr>\n",
       "    <tr>\n",
       "      <th>129</th>\n",
       "      <td>130</td>\n",
       "      <td>hot cereal pancake mixes</td>\n",
       "    </tr>\n",
       "    <tr>\n",
       "      <th>130</th>\n",
       "      <td>131</td>\n",
       "      <td>dry pasta</td>\n",
       "    </tr>\n",
       "    <tr>\n",
       "      <th>131</th>\n",
       "      <td>132</td>\n",
       "      <td>beauty</td>\n",
       "    </tr>\n",
       "    <tr>\n",
       "      <th>132</th>\n",
       "      <td>133</td>\n",
       "      <td>muscles joints pain relief</td>\n",
       "    </tr>\n",
       "    <tr>\n",
       "      <th>133</th>\n",
       "      <td>134</td>\n",
       "      <td>specialty wines champagnes</td>\n",
       "    </tr>\n",
       "  </tbody>\n",
       "</table>\n",
       "<p>134 rows × 2 columns</p>\n",
       "</div>"
      ],
      "text/plain": [
       "     aisle_id                       aisle\n",
       "0           1       prepared soups salads\n",
       "1           2           specialty cheeses\n",
       "2           3         energy granola bars\n",
       "3           4               instant foods\n",
       "4           5  marinades meat preparation\n",
       "..        ...                         ...\n",
       "129       130    hot cereal pancake mixes\n",
       "130       131                   dry pasta\n",
       "131       132                      beauty\n",
       "132       133  muscles joints pain relief\n",
       "133       134  specialty wines champagnes\n",
       "\n",
       "[134 rows x 2 columns]"
      ]
     },
     "execution_count": 6,
     "metadata": {},
     "output_type": "execute_result"
    }
   ],
   "source": [
    "df_aisles = pd.read_csv('data/aisles.csv')\n",
    "df_aisles"
   ]
  },
  {
   "cell_type": "code",
   "execution_count": 7,
   "id": "4405ecc3",
   "metadata": {
    "scrolled": true
   },
   "outputs": [
    {
     "data": {
      "text/plain": [
       "False"
      ]
     },
     "execution_count": 7,
     "metadata": {},
     "output_type": "execute_result"
    }
   ],
   "source": [
    "# Check for nulls\n",
    "df_aisles.isna().sum().any()"
   ]
  },
  {
   "cell_type": "code",
   "execution_count": 8,
   "id": "d5f4b58a",
   "metadata": {},
   "outputs": [
    {
     "data": {
      "text/plain": [
       "0      False\n",
       "1      False\n",
       "2      False\n",
       "3      False\n",
       "4      False\n",
       "       ...  \n",
       "129    False\n",
       "130    False\n",
       "131    False\n",
       "132    False\n",
       "133    False\n",
       "Length: 134, dtype: bool"
      ]
     },
     "execution_count": 8,
     "metadata": {},
     "output_type": "execute_result"
    }
   ],
   "source": [
    "# Check duplicate rows\n",
    "df_aisles.duplicated()"
   ]
  },
  {
   "cell_type": "markdown",
   "id": "afeb5a8a",
   "metadata": {},
   "source": [
    "There are 133 types of varied product aisles with no null values or duplicates."
   ]
  },
  {
   "cell_type": "code",
   "execution_count": 9,
   "id": "40597f87",
   "metadata": {
    "scrolled": true
   },
   "outputs": [
    {
     "data": {
      "text/html": [
       "<div>\n",
       "<style scoped>\n",
       "    .dataframe tbody tr th:only-of-type {\n",
       "        vertical-align: middle;\n",
       "    }\n",
       "\n",
       "    .dataframe tbody tr th {\n",
       "        vertical-align: top;\n",
       "    }\n",
       "\n",
       "    .dataframe thead th {\n",
       "        text-align: right;\n",
       "    }\n",
       "</style>\n",
       "<table border=\"1\" class=\"dataframe\">\n",
       "  <thead>\n",
       "    <tr style=\"text-align: right;\">\n",
       "      <th></th>\n",
       "      <th>department_id</th>\n",
       "      <th>department</th>\n",
       "    </tr>\n",
       "  </thead>\n",
       "  <tbody>\n",
       "    <tr>\n",
       "      <th>0</th>\n",
       "      <td>1</td>\n",
       "      <td>frozen</td>\n",
       "    </tr>\n",
       "    <tr>\n",
       "      <th>1</th>\n",
       "      <td>2</td>\n",
       "      <td>other</td>\n",
       "    </tr>\n",
       "    <tr>\n",
       "      <th>2</th>\n",
       "      <td>3</td>\n",
       "      <td>bakery</td>\n",
       "    </tr>\n",
       "    <tr>\n",
       "      <th>3</th>\n",
       "      <td>4</td>\n",
       "      <td>produce</td>\n",
       "    </tr>\n",
       "    <tr>\n",
       "      <th>4</th>\n",
       "      <td>5</td>\n",
       "      <td>alcohol</td>\n",
       "    </tr>\n",
       "    <tr>\n",
       "      <th>5</th>\n",
       "      <td>6</td>\n",
       "      <td>international</td>\n",
       "    </tr>\n",
       "    <tr>\n",
       "      <th>6</th>\n",
       "      <td>7</td>\n",
       "      <td>beverages</td>\n",
       "    </tr>\n",
       "    <tr>\n",
       "      <th>7</th>\n",
       "      <td>8</td>\n",
       "      <td>pets</td>\n",
       "    </tr>\n",
       "    <tr>\n",
       "      <th>8</th>\n",
       "      <td>9</td>\n",
       "      <td>dry goods pasta</td>\n",
       "    </tr>\n",
       "    <tr>\n",
       "      <th>9</th>\n",
       "      <td>10</td>\n",
       "      <td>bulk</td>\n",
       "    </tr>\n",
       "    <tr>\n",
       "      <th>10</th>\n",
       "      <td>11</td>\n",
       "      <td>personal care</td>\n",
       "    </tr>\n",
       "    <tr>\n",
       "      <th>11</th>\n",
       "      <td>12</td>\n",
       "      <td>meat seafood</td>\n",
       "    </tr>\n",
       "    <tr>\n",
       "      <th>12</th>\n",
       "      <td>13</td>\n",
       "      <td>pantry</td>\n",
       "    </tr>\n",
       "    <tr>\n",
       "      <th>13</th>\n",
       "      <td>14</td>\n",
       "      <td>breakfast</td>\n",
       "    </tr>\n",
       "    <tr>\n",
       "      <th>14</th>\n",
       "      <td>15</td>\n",
       "      <td>canned goods</td>\n",
       "    </tr>\n",
       "    <tr>\n",
       "      <th>15</th>\n",
       "      <td>16</td>\n",
       "      <td>dairy eggs</td>\n",
       "    </tr>\n",
       "    <tr>\n",
       "      <th>16</th>\n",
       "      <td>17</td>\n",
       "      <td>household</td>\n",
       "    </tr>\n",
       "    <tr>\n",
       "      <th>17</th>\n",
       "      <td>18</td>\n",
       "      <td>babies</td>\n",
       "    </tr>\n",
       "    <tr>\n",
       "      <th>18</th>\n",
       "      <td>19</td>\n",
       "      <td>snacks</td>\n",
       "    </tr>\n",
       "    <tr>\n",
       "      <th>19</th>\n",
       "      <td>20</td>\n",
       "      <td>deli</td>\n",
       "    </tr>\n",
       "    <tr>\n",
       "      <th>20</th>\n",
       "      <td>21</td>\n",
       "      <td>missing</td>\n",
       "    </tr>\n",
       "  </tbody>\n",
       "</table>\n",
       "</div>"
      ],
      "text/plain": [
       "    department_id       department\n",
       "0               1           frozen\n",
       "1               2            other\n",
       "2               3           bakery\n",
       "3               4          produce\n",
       "4               5          alcohol\n",
       "5               6    international\n",
       "6               7        beverages\n",
       "7               8             pets\n",
       "8               9  dry goods pasta\n",
       "9              10             bulk\n",
       "10             11    personal care\n",
       "11             12     meat seafood\n",
       "12             13           pantry\n",
       "13             14        breakfast\n",
       "14             15     canned goods\n",
       "15             16       dairy eggs\n",
       "16             17        household\n",
       "17             18           babies\n",
       "18             19           snacks\n",
       "19             20             deli\n",
       "20             21          missing"
      ]
     },
     "execution_count": 9,
     "metadata": {},
     "output_type": "execute_result"
    }
   ],
   "source": [
    "# **Departments** data set check:\n",
    "df_departments = pd.read_csv('data/departments.csv')\n",
    "df_departments"
   ]
  },
  {
   "cell_type": "code",
   "execution_count": 10,
   "id": "3a166c77",
   "metadata": {
    "scrolled": true
   },
   "outputs": [
    {
     "data": {
      "text/plain": [
       "False"
      ]
     },
     "execution_count": 10,
     "metadata": {},
     "output_type": "execute_result"
    }
   ],
   "source": [
    "# Check for nulls\n",
    "df_departments.isna().sum().any()"
   ]
  },
  {
   "cell_type": "code",
   "execution_count": 11,
   "id": "9c3b177c",
   "metadata": {},
   "outputs": [
    {
     "data": {
      "text/plain": [
       "0     False\n",
       "1     False\n",
       "2     False\n",
       "3     False\n",
       "4     False\n",
       "5     False\n",
       "6     False\n",
       "7     False\n",
       "8     False\n",
       "9     False\n",
       "10    False\n",
       "11    False\n",
       "12    False\n",
       "13    False\n",
       "14    False\n",
       "15    False\n",
       "16    False\n",
       "17    False\n",
       "18    False\n",
       "19    False\n",
       "20    False\n",
       "dtype: bool"
      ]
     },
     "execution_count": 11,
     "metadata": {},
     "output_type": "execute_result"
    }
   ],
   "source": [
    "# Check duplicate rows\n",
    "df_departments.duplicated()"
   ]
  },
  {
   "cell_type": "markdown",
   "id": "99e2306f",
   "metadata": {},
   "source": [
    "There is a total of 21 rows: 20 representing various product departments, and the 21st row is for items with missing department values."
   ]
  },
  {
   "cell_type": "markdown",
   "id": "0bb529e5",
   "metadata": {},
   "source": [
    "#### Let´s have an overview at **Products** data set:"
   ]
  },
  {
   "cell_type": "code",
   "execution_count": 12,
   "id": "398ccfe0",
   "metadata": {},
   "outputs": [
    {
     "data": {
      "text/html": [
       "<div>\n",
       "<style scoped>\n",
       "    .dataframe tbody tr th:only-of-type {\n",
       "        vertical-align: middle;\n",
       "    }\n",
       "\n",
       "    .dataframe tbody tr th {\n",
       "        vertical-align: top;\n",
       "    }\n",
       "\n",
       "    .dataframe thead th {\n",
       "        text-align: right;\n",
       "    }\n",
       "</style>\n",
       "<table border=\"1\" class=\"dataframe\">\n",
       "  <thead>\n",
       "    <tr style=\"text-align: right;\">\n",
       "      <th></th>\n",
       "      <th>product_id</th>\n",
       "      <th>product_name</th>\n",
       "      <th>aisle_id</th>\n",
       "      <th>department_id</th>\n",
       "    </tr>\n",
       "  </thead>\n",
       "  <tbody>\n",
       "    <tr>\n",
       "      <th>0</th>\n",
       "      <td>1</td>\n",
       "      <td>Chocolate Sandwich Cookies</td>\n",
       "      <td>61</td>\n",
       "      <td>19</td>\n",
       "    </tr>\n",
       "    <tr>\n",
       "      <th>1</th>\n",
       "      <td>2</td>\n",
       "      <td>All-Seasons Salt</td>\n",
       "      <td>104</td>\n",
       "      <td>13</td>\n",
       "    </tr>\n",
       "    <tr>\n",
       "      <th>2</th>\n",
       "      <td>3</td>\n",
       "      <td>Robust Golden Unsweetened Oolong Tea</td>\n",
       "      <td>94</td>\n",
       "      <td>7</td>\n",
       "    </tr>\n",
       "    <tr>\n",
       "      <th>3</th>\n",
       "      <td>4</td>\n",
       "      <td>Smart Ones Classic Favorites Mini Rigatoni Wit...</td>\n",
       "      <td>38</td>\n",
       "      <td>1</td>\n",
       "    </tr>\n",
       "    <tr>\n",
       "      <th>4</th>\n",
       "      <td>5</td>\n",
       "      <td>Green Chile Anytime Sauce</td>\n",
       "      <td>5</td>\n",
       "      <td>13</td>\n",
       "    </tr>\n",
       "    <tr>\n",
       "      <th>...</th>\n",
       "      <td>...</td>\n",
       "      <td>...</td>\n",
       "      <td>...</td>\n",
       "      <td>...</td>\n",
       "    </tr>\n",
       "    <tr>\n",
       "      <th>49683</th>\n",
       "      <td>49684</td>\n",
       "      <td>Vodka, Triple Distilled, Twist of Vanilla</td>\n",
       "      <td>124</td>\n",
       "      <td>5</td>\n",
       "    </tr>\n",
       "    <tr>\n",
       "      <th>49684</th>\n",
       "      <td>49685</td>\n",
       "      <td>En Croute Roast Hazelnut Cranberry</td>\n",
       "      <td>42</td>\n",
       "      <td>1</td>\n",
       "    </tr>\n",
       "    <tr>\n",
       "      <th>49685</th>\n",
       "      <td>49686</td>\n",
       "      <td>Artisan Baguette</td>\n",
       "      <td>112</td>\n",
       "      <td>3</td>\n",
       "    </tr>\n",
       "    <tr>\n",
       "      <th>49686</th>\n",
       "      <td>49687</td>\n",
       "      <td>Smartblend Healthy Metabolism Dry Cat Food</td>\n",
       "      <td>41</td>\n",
       "      <td>8</td>\n",
       "    </tr>\n",
       "    <tr>\n",
       "      <th>49687</th>\n",
       "      <td>49688</td>\n",
       "      <td>Fresh Foaming Cleanser</td>\n",
       "      <td>73</td>\n",
       "      <td>11</td>\n",
       "    </tr>\n",
       "  </tbody>\n",
       "</table>\n",
       "<p>49688 rows × 4 columns</p>\n",
       "</div>"
      ],
      "text/plain": [
       "       product_id                                       product_name  \\\n",
       "0               1                         Chocolate Sandwich Cookies   \n",
       "1               2                                   All-Seasons Salt   \n",
       "2               3               Robust Golden Unsweetened Oolong Tea   \n",
       "3               4  Smart Ones Classic Favorites Mini Rigatoni Wit...   \n",
       "4               5                          Green Chile Anytime Sauce   \n",
       "...           ...                                                ...   \n",
       "49683       49684          Vodka, Triple Distilled, Twist of Vanilla   \n",
       "49684       49685                 En Croute Roast Hazelnut Cranberry   \n",
       "49685       49686                                   Artisan Baguette   \n",
       "49686       49687         Smartblend Healthy Metabolism Dry Cat Food   \n",
       "49687       49688                             Fresh Foaming Cleanser   \n",
       "\n",
       "       aisle_id  department_id  \n",
       "0            61             19  \n",
       "1           104             13  \n",
       "2            94              7  \n",
       "3            38              1  \n",
       "4             5             13  \n",
       "...         ...            ...  \n",
       "49683       124              5  \n",
       "49684        42              1  \n",
       "49685       112              3  \n",
       "49686        41              8  \n",
       "49687        73             11  \n",
       "\n",
       "[49688 rows x 4 columns]"
      ]
     },
     "execution_count": 12,
     "metadata": {},
     "output_type": "execute_result"
    }
   ],
   "source": [
    "df_products = pd.read_csv('data/products.csv')\n",
    "df_products"
   ]
  },
  {
   "cell_type": "code",
   "execution_count": 13,
   "id": "82fe1fe9",
   "metadata": {},
   "outputs": [
    {
     "data": {
      "text/plain": [
       "False"
      ]
     },
     "execution_count": 13,
     "metadata": {},
     "output_type": "execute_result"
    }
   ],
   "source": [
    "# Check for nulls\n",
    "df_products.isna().sum().any()"
   ]
  },
  {
   "cell_type": "code",
   "execution_count": 14,
   "id": "7a9f8033",
   "metadata": {},
   "outputs": [
    {
     "data": {
      "text/plain": [
       "0        False\n",
       "1        False\n",
       "2        False\n",
       "3        False\n",
       "4        False\n",
       "         ...  \n",
       "49683    False\n",
       "49684    False\n",
       "49685    False\n",
       "49686    False\n",
       "49687    False\n",
       "Length: 49688, dtype: bool"
      ]
     },
     "execution_count": 14,
     "metadata": {},
     "output_type": "execute_result"
    }
   ],
   "source": [
    "# Check duplicate rows\n",
    "df_products.duplicated()"
   ]
  },
  {
   "cell_type": "markdown",
   "id": "b0ec2fbd",
   "metadata": {},
   "source": [
    "There are 49 688 types of products with no null values or duplicates. This table **Products** can be combined with the **Isles** and **Departments**."
   ]
  },
  {
   "cell_type": "code",
   "execution_count": 15,
   "id": "1d5b3879",
   "metadata": {},
   "outputs": [],
   "source": [
    "# Merge df_products with df_aisles on 'aisle_id'\n",
    "df_products_aisles = pd.merge(df_products, df_aisles, on='aisle_id')"
   ]
  },
  {
   "cell_type": "code",
   "execution_count": 16,
   "id": "d3f5e80b",
   "metadata": {},
   "outputs": [
    {
     "data": {
      "text/html": [
       "<div>\n",
       "<style scoped>\n",
       "    .dataframe tbody tr th:only-of-type {\n",
       "        vertical-align: middle;\n",
       "    }\n",
       "\n",
       "    .dataframe tbody tr th {\n",
       "        vertical-align: top;\n",
       "    }\n",
       "\n",
       "    .dataframe thead th {\n",
       "        text-align: right;\n",
       "    }\n",
       "</style>\n",
       "<table border=\"1\" class=\"dataframe\">\n",
       "  <thead>\n",
       "    <tr style=\"text-align: right;\">\n",
       "      <th></th>\n",
       "      <th>product_id</th>\n",
       "      <th>product_name</th>\n",
       "      <th>aisle_id</th>\n",
       "      <th>department_id</th>\n",
       "      <th>aisle</th>\n",
       "      <th>department</th>\n",
       "    </tr>\n",
       "  </thead>\n",
       "  <tbody>\n",
       "    <tr>\n",
       "      <th>0</th>\n",
       "      <td>1</td>\n",
       "      <td>Chocolate Sandwich Cookies</td>\n",
       "      <td>61</td>\n",
       "      <td>19</td>\n",
       "      <td>cookies cakes</td>\n",
       "      <td>snacks</td>\n",
       "    </tr>\n",
       "    <tr>\n",
       "      <th>1</th>\n",
       "      <td>78</td>\n",
       "      <td>Nutter Butter Cookie Bites Go-Pak</td>\n",
       "      <td>61</td>\n",
       "      <td>19</td>\n",
       "      <td>cookies cakes</td>\n",
       "      <td>snacks</td>\n",
       "    </tr>\n",
       "    <tr>\n",
       "      <th>2</th>\n",
       "      <td>102</td>\n",
       "      <td>Danish Butter Cookies</td>\n",
       "      <td>61</td>\n",
       "      <td>19</td>\n",
       "      <td>cookies cakes</td>\n",
       "      <td>snacks</td>\n",
       "    </tr>\n",
       "    <tr>\n",
       "      <th>3</th>\n",
       "      <td>172</td>\n",
       "      <td>Gluten Free All Natural Chocolate Chip Cookies</td>\n",
       "      <td>61</td>\n",
       "      <td>19</td>\n",
       "      <td>cookies cakes</td>\n",
       "      <td>snacks</td>\n",
       "    </tr>\n",
       "    <tr>\n",
       "      <th>4</th>\n",
       "      <td>285</td>\n",
       "      <td>Mini Nilla Wafers Munch Pack</td>\n",
       "      <td>61</td>\n",
       "      <td>19</td>\n",
       "      <td>cookies cakes</td>\n",
       "      <td>snacks</td>\n",
       "    </tr>\n",
       "    <tr>\n",
       "      <th>...</th>\n",
       "      <td>...</td>\n",
       "      <td>...</td>\n",
       "      <td>...</td>\n",
       "      <td>...</td>\n",
       "      <td>...</td>\n",
       "      <td>...</td>\n",
       "    </tr>\n",
       "    <tr>\n",
       "      <th>49683</th>\n",
       "      <td>22827</td>\n",
       "      <td>Organic Black Mission Figs</td>\n",
       "      <td>18</td>\n",
       "      <td>10</td>\n",
       "      <td>bulk dried fruits vegetables</td>\n",
       "      <td>bulk</td>\n",
       "    </tr>\n",
       "    <tr>\n",
       "      <th>49684</th>\n",
       "      <td>28655</td>\n",
       "      <td>Crystallized Ginger Chunks</td>\n",
       "      <td>18</td>\n",
       "      <td>10</td>\n",
       "      <td>bulk dried fruits vegetables</td>\n",
       "      <td>bulk</td>\n",
       "    </tr>\n",
       "    <tr>\n",
       "      <th>49685</th>\n",
       "      <td>30365</td>\n",
       "      <td>Vegetable Chips</td>\n",
       "      <td>18</td>\n",
       "      <td>10</td>\n",
       "      <td>bulk dried fruits vegetables</td>\n",
       "      <td>bulk</td>\n",
       "    </tr>\n",
       "    <tr>\n",
       "      <th>49686</th>\n",
       "      <td>38007</td>\n",
       "      <td>Naturally Sweet Plantain Chips</td>\n",
       "      <td>18</td>\n",
       "      <td>10</td>\n",
       "      <td>bulk dried fruits vegetables</td>\n",
       "      <td>bulk</td>\n",
       "    </tr>\n",
       "    <tr>\n",
       "      <th>49687</th>\n",
       "      <td>48778</td>\n",
       "      <td>Fit Super A Juice, Cold Pressed, Carrot/Apple/...</td>\n",
       "      <td>18</td>\n",
       "      <td>10</td>\n",
       "      <td>bulk dried fruits vegetables</td>\n",
       "      <td>bulk</td>\n",
       "    </tr>\n",
       "  </tbody>\n",
       "</table>\n",
       "<p>49688 rows × 6 columns</p>\n",
       "</div>"
      ],
      "text/plain": [
       "       product_id                                       product_name  \\\n",
       "0               1                         Chocolate Sandwich Cookies   \n",
       "1              78                  Nutter Butter Cookie Bites Go-Pak   \n",
       "2             102                              Danish Butter Cookies   \n",
       "3             172     Gluten Free All Natural Chocolate Chip Cookies   \n",
       "4             285                       Mini Nilla Wafers Munch Pack   \n",
       "...           ...                                                ...   \n",
       "49683       22827                         Organic Black Mission Figs   \n",
       "49684       28655                         Crystallized Ginger Chunks   \n",
       "49685       30365                                    Vegetable Chips   \n",
       "49686       38007                     Naturally Sweet Plantain Chips   \n",
       "49687       48778  Fit Super A Juice, Cold Pressed, Carrot/Apple/...   \n",
       "\n",
       "       aisle_id  department_id                         aisle department  \n",
       "0            61             19                 cookies cakes     snacks  \n",
       "1            61             19                 cookies cakes     snacks  \n",
       "2            61             19                 cookies cakes     snacks  \n",
       "3            61             19                 cookies cakes     snacks  \n",
       "4            61             19                 cookies cakes     snacks  \n",
       "...         ...            ...                           ...        ...  \n",
       "49683        18             10  bulk dried fruits vegetables       bulk  \n",
       "49684        18             10  bulk dried fruits vegetables       bulk  \n",
       "49685        18             10  bulk dried fruits vegetables       bulk  \n",
       "49686        18             10  bulk dried fruits vegetables       bulk  \n",
       "49687        18             10  bulk dried fruits vegetables       bulk  \n",
       "\n",
       "[49688 rows x 6 columns]"
      ]
     },
     "execution_count": 16,
     "metadata": {},
     "output_type": "execute_result"
    }
   ],
   "source": [
    "# Merge df_products_aisles with df_departments on 'department_id'\n",
    "df_products_final = pd.merge(df_products_aisles, df_departments, on='department_id')\n",
    "df_products_final"
   ]
  },
  {
   "cell_type": "markdown",
   "id": "476cf6a2",
   "metadata": {},
   "source": [
    "Now, we have additional information consolidated into one table about types of 49688 products, which can be used for feature engineering or to enhance the analysis."
   ]
  },
  {
   "cell_type": "markdown",
   "id": "581b14d8",
   "metadata": {},
   "source": [
    "#### Let´s have an overview at **Order products train** and **Order products  prior** data sets:"
   ]
  },
  {
   "cell_type": "code",
   "execution_count": 17,
   "id": "0fa25a63",
   "metadata": {},
   "outputs": [
    {
     "data": {
      "text/html": [
       "<div>\n",
       "<style scoped>\n",
       "    .dataframe tbody tr th:only-of-type {\n",
       "        vertical-align: middle;\n",
       "    }\n",
       "\n",
       "    .dataframe tbody tr th {\n",
       "        vertical-align: top;\n",
       "    }\n",
       "\n",
       "    .dataframe thead th {\n",
       "        text-align: right;\n",
       "    }\n",
       "</style>\n",
       "<table border=\"1\" class=\"dataframe\">\n",
       "  <thead>\n",
       "    <tr style=\"text-align: right;\">\n",
       "      <th></th>\n",
       "      <th>order_id</th>\n",
       "      <th>product_id</th>\n",
       "      <th>add_to_cart_order</th>\n",
       "      <th>reordered</th>\n",
       "    </tr>\n",
       "  </thead>\n",
       "  <tbody>\n",
       "    <tr>\n",
       "      <th>0</th>\n",
       "      <td>1</td>\n",
       "      <td>49302</td>\n",
       "      <td>1</td>\n",
       "      <td>1</td>\n",
       "    </tr>\n",
       "    <tr>\n",
       "      <th>1</th>\n",
       "      <td>1</td>\n",
       "      <td>11109</td>\n",
       "      <td>2</td>\n",
       "      <td>1</td>\n",
       "    </tr>\n",
       "    <tr>\n",
       "      <th>2</th>\n",
       "      <td>1</td>\n",
       "      <td>10246</td>\n",
       "      <td>3</td>\n",
       "      <td>0</td>\n",
       "    </tr>\n",
       "    <tr>\n",
       "      <th>3</th>\n",
       "      <td>1</td>\n",
       "      <td>49683</td>\n",
       "      <td>4</td>\n",
       "      <td>0</td>\n",
       "    </tr>\n",
       "    <tr>\n",
       "      <th>4</th>\n",
       "      <td>1</td>\n",
       "      <td>43633</td>\n",
       "      <td>5</td>\n",
       "      <td>1</td>\n",
       "    </tr>\n",
       "    <tr>\n",
       "      <th>...</th>\n",
       "      <td>...</td>\n",
       "      <td>...</td>\n",
       "      <td>...</td>\n",
       "      <td>...</td>\n",
       "    </tr>\n",
       "    <tr>\n",
       "      <th>1384612</th>\n",
       "      <td>3421063</td>\n",
       "      <td>14233</td>\n",
       "      <td>3</td>\n",
       "      <td>1</td>\n",
       "    </tr>\n",
       "    <tr>\n",
       "      <th>1384613</th>\n",
       "      <td>3421063</td>\n",
       "      <td>35548</td>\n",
       "      <td>4</td>\n",
       "      <td>1</td>\n",
       "    </tr>\n",
       "    <tr>\n",
       "      <th>1384614</th>\n",
       "      <td>3421070</td>\n",
       "      <td>35951</td>\n",
       "      <td>1</td>\n",
       "      <td>1</td>\n",
       "    </tr>\n",
       "    <tr>\n",
       "      <th>1384615</th>\n",
       "      <td>3421070</td>\n",
       "      <td>16953</td>\n",
       "      <td>2</td>\n",
       "      <td>1</td>\n",
       "    </tr>\n",
       "    <tr>\n",
       "      <th>1384616</th>\n",
       "      <td>3421070</td>\n",
       "      <td>4724</td>\n",
       "      <td>3</td>\n",
       "      <td>1</td>\n",
       "    </tr>\n",
       "  </tbody>\n",
       "</table>\n",
       "<p>1384617 rows × 4 columns</p>\n",
       "</div>"
      ],
      "text/plain": [
       "         order_id  product_id  add_to_cart_order  reordered\n",
       "0               1       49302                  1          1\n",
       "1               1       11109                  2          1\n",
       "2               1       10246                  3          0\n",
       "3               1       49683                  4          0\n",
       "4               1       43633                  5          1\n",
       "...           ...         ...                ...        ...\n",
       "1384612   3421063       14233                  3          1\n",
       "1384613   3421063       35548                  4          1\n",
       "1384614   3421070       35951                  1          1\n",
       "1384615   3421070       16953                  2          1\n",
       "1384616   3421070        4724                  3          1\n",
       "\n",
       "[1384617 rows x 4 columns]"
      ]
     },
     "execution_count": 17,
     "metadata": {},
     "output_type": "execute_result"
    }
   ],
   "source": [
    "df_products_train = pd.read_csv('data/order_products__train.csv')\n",
    "df_products_train"
   ]
  },
  {
   "cell_type": "markdown",
   "id": "9944ca9f",
   "metadata": {},
   "source": [
    "In **order_products__train** there are 1,384,616 rows containing information about products from 3,421,070 orders, with a total of 49,688 unique product IDs. It also indicates the order in which the item was added to the cart and whether it was reordered or not (1/0)."
   ]
  },
  {
   "cell_type": "code",
   "execution_count": 48,
   "id": "c14e917f",
   "metadata": {},
   "outputs": [
    {
     "data": {
      "text/plain": [
       "False"
      ]
     },
     "execution_count": 48,
     "metadata": {},
     "output_type": "execute_result"
    }
   ],
   "source": [
    "# Check for nulls\n",
    "df_products_train.isna().sum().any()"
   ]
  },
  {
   "cell_type": "code",
   "execution_count": 49,
   "id": "dd4f8865",
   "metadata": {},
   "outputs": [
    {
     "data": {
      "text/plain": [
       "0          False\n",
       "1          False\n",
       "2          False\n",
       "3          False\n",
       "4          False\n",
       "           ...  \n",
       "1384612    False\n",
       "1384613    False\n",
       "1384614    False\n",
       "1384615    False\n",
       "1384616    False\n",
       "Length: 1384617, dtype: bool"
      ]
     },
     "execution_count": 49,
     "metadata": {},
     "output_type": "execute_result"
    }
   ],
   "source": [
    "# Check duplicate rows\n",
    "df_products_train.duplicated()"
   ]
  },
  {
   "attachments": {},
   "cell_type": "markdown",
   "id": "7fb15c85",
   "metadata": {},
   "source": [
    "The train data sets are typically used for training machine learning models. It contains data about the orders, specifically which products were purchased in each order.\n",
    "In our case we do not have provided **\"order_products__test\"** data set, therefore, later we will split **\"order_products__train\"** into training and validation sets for model selection and hyperparameter tuning."
   ]
  },
  {
   "cell_type": "markdown",
   "id": "91ffd088",
   "metadata": {},
   "source": [
    "#### Let´s have an overview at **Order products  prior** data set:"
   ]
  },
  {
   "cell_type": "code",
   "execution_count": 40,
   "id": "f2198d24",
   "metadata": {
    "scrolled": false
   },
   "outputs": [
    {
     "data": {
      "text/html": [
       "<div>\n",
       "<style scoped>\n",
       "    .dataframe tbody tr th:only-of-type {\n",
       "        vertical-align: middle;\n",
       "    }\n",
       "\n",
       "    .dataframe tbody tr th {\n",
       "        vertical-align: top;\n",
       "    }\n",
       "\n",
       "    .dataframe thead th {\n",
       "        text-align: right;\n",
       "    }\n",
       "</style>\n",
       "<table border=\"1\" class=\"dataframe\">\n",
       "  <thead>\n",
       "    <tr style=\"text-align: right;\">\n",
       "      <th></th>\n",
       "      <th>order_id</th>\n",
       "      <th>product_id</th>\n",
       "      <th>add_to_cart_order</th>\n",
       "      <th>reordered</th>\n",
       "    </tr>\n",
       "  </thead>\n",
       "  <tbody>\n",
       "    <tr>\n",
       "      <th>0</th>\n",
       "      <td>2</td>\n",
       "      <td>33120</td>\n",
       "      <td>1</td>\n",
       "      <td>1</td>\n",
       "    </tr>\n",
       "    <tr>\n",
       "      <th>1</th>\n",
       "      <td>2</td>\n",
       "      <td>28985</td>\n",
       "      <td>2</td>\n",
       "      <td>1</td>\n",
       "    </tr>\n",
       "    <tr>\n",
       "      <th>2</th>\n",
       "      <td>2</td>\n",
       "      <td>9327</td>\n",
       "      <td>3</td>\n",
       "      <td>0</td>\n",
       "    </tr>\n",
       "    <tr>\n",
       "      <th>3</th>\n",
       "      <td>2</td>\n",
       "      <td>45918</td>\n",
       "      <td>4</td>\n",
       "      <td>1</td>\n",
       "    </tr>\n",
       "    <tr>\n",
       "      <th>4</th>\n",
       "      <td>2</td>\n",
       "      <td>30035</td>\n",
       "      <td>5</td>\n",
       "      <td>0</td>\n",
       "    </tr>\n",
       "    <tr>\n",
       "      <th>...</th>\n",
       "      <td>...</td>\n",
       "      <td>...</td>\n",
       "      <td>...</td>\n",
       "      <td>...</td>\n",
       "    </tr>\n",
       "    <tr>\n",
       "      <th>32434484</th>\n",
       "      <td>3421083</td>\n",
       "      <td>39678</td>\n",
       "      <td>6</td>\n",
       "      <td>1</td>\n",
       "    </tr>\n",
       "    <tr>\n",
       "      <th>32434485</th>\n",
       "      <td>3421083</td>\n",
       "      <td>11352</td>\n",
       "      <td>7</td>\n",
       "      <td>0</td>\n",
       "    </tr>\n",
       "    <tr>\n",
       "      <th>32434486</th>\n",
       "      <td>3421083</td>\n",
       "      <td>4600</td>\n",
       "      <td>8</td>\n",
       "      <td>0</td>\n",
       "    </tr>\n",
       "    <tr>\n",
       "      <th>32434487</th>\n",
       "      <td>3421083</td>\n",
       "      <td>24852</td>\n",
       "      <td>9</td>\n",
       "      <td>1</td>\n",
       "    </tr>\n",
       "    <tr>\n",
       "      <th>32434488</th>\n",
       "      <td>3421083</td>\n",
       "      <td>5020</td>\n",
       "      <td>10</td>\n",
       "      <td>1</td>\n",
       "    </tr>\n",
       "  </tbody>\n",
       "</table>\n",
       "<p>32434489 rows × 4 columns</p>\n",
       "</div>"
      ],
      "text/plain": [
       "          order_id  product_id  add_to_cart_order  reordered\n",
       "0                2       33120                  1          1\n",
       "1                2       28985                  2          1\n",
       "2                2        9327                  3          0\n",
       "3                2       45918                  4          1\n",
       "4                2       30035                  5          0\n",
       "...            ...         ...                ...        ...\n",
       "32434484   3421083       39678                  6          1\n",
       "32434485   3421083       11352                  7          0\n",
       "32434486   3421083        4600                  8          0\n",
       "32434487   3421083       24852                  9          1\n",
       "32434488   3421083        5020                 10          1\n",
       "\n",
       "[32434489 rows x 4 columns]"
      ]
     },
     "execution_count": 40,
     "metadata": {},
     "output_type": "execute_result"
    }
   ],
   "source": [
    "df_order_products_prior = pd.read_csv('data/order_products__prior.csv')\n",
    "df_order_products_prior"
   ]
  },
  {
   "cell_type": "markdown",
   "id": "ec3ac9b5",
   "metadata": {},
   "source": [
    "We can see that this dataset is substantially larger (32,434,488 rows versus 1,384,616 rows), which makes sense as it contains all the historical data.\n",
    "\n",
    "These rows have the same columns as the previous dataset: they contain information about products from 3,421,083 orders, with a total of 49,688 unique product IDs. It also indicates the order in which the item was added to the cart and whether it was reordered or not (1/0)."
   ]
  },
  {
   "cell_type": "code",
   "execution_count": 73,
   "id": "e8fdadac",
   "metadata": {},
   "outputs": [
    {
     "name": "stdout",
     "output_type": "stream",
     "text": [
      "<class 'pandas.core.frame.DataFrame'>\n",
      "RangeIndex: 32434489 entries, 0 to 32434488\n",
      "Data columns (total 4 columns):\n",
      " #   Column             Dtype\n",
      "---  ------             -----\n",
      " 0   order_id           int64\n",
      " 1   product_id         int64\n",
      " 2   add_to_cart_order  int64\n",
      " 3   reordered          int64\n",
      "dtypes: int64(4)\n",
      "memory usage: 989.8 MB\n"
     ]
    }
   ],
   "source": [
    "df_order_products_prior.info()"
   ]
  },
  {
   "cell_type": "code",
   "execution_count": 78,
   "id": "16bd3770",
   "metadata": {},
   "outputs": [
    {
     "data": {
      "text/html": [
       "<div>\n",
       "<style scoped>\n",
       "    .dataframe tbody tr th:only-of-type {\n",
       "        vertical-align: middle;\n",
       "    }\n",
       "\n",
       "    .dataframe tbody tr th {\n",
       "        vertical-align: top;\n",
       "    }\n",
       "\n",
       "    .dataframe thead th {\n",
       "        text-align: right;\n",
       "    }\n",
       "</style>\n",
       "<table border=\"1\" class=\"dataframe\">\n",
       "  <thead>\n",
       "    <tr style=\"text-align: right;\">\n",
       "      <th></th>\n",
       "      <th>order_id</th>\n",
       "      <th>product_id</th>\n",
       "      <th>add_to_cart_order</th>\n",
       "      <th>reordered</th>\n",
       "    </tr>\n",
       "  </thead>\n",
       "  <tbody>\n",
       "    <tr>\n",
       "      <th>count</th>\n",
       "      <td>32434489.000</td>\n",
       "      <td>32434489.000</td>\n",
       "      <td>32434489.000</td>\n",
       "      <td>32434489.000</td>\n",
       "    </tr>\n",
       "    <tr>\n",
       "      <th>mean</th>\n",
       "      <td>1710748.519</td>\n",
       "      <td>25576.338</td>\n",
       "      <td>8.351</td>\n",
       "      <td>0.590</td>\n",
       "    </tr>\n",
       "    <tr>\n",
       "      <th>std</th>\n",
       "      <td>987300.696</td>\n",
       "      <td>14096.689</td>\n",
       "      <td>7.127</td>\n",
       "      <td>0.492</td>\n",
       "    </tr>\n",
       "    <tr>\n",
       "      <th>min</th>\n",
       "      <td>2.000</td>\n",
       "      <td>1.000</td>\n",
       "      <td>1.000</td>\n",
       "      <td>0.000</td>\n",
       "    </tr>\n",
       "    <tr>\n",
       "      <th>25%</th>\n",
       "      <td>855943.000</td>\n",
       "      <td>13530.000</td>\n",
       "      <td>3.000</td>\n",
       "      <td>0.000</td>\n",
       "    </tr>\n",
       "    <tr>\n",
       "      <th>50%</th>\n",
       "      <td>1711048.000</td>\n",
       "      <td>25256.000</td>\n",
       "      <td>6.000</td>\n",
       "      <td>1.000</td>\n",
       "    </tr>\n",
       "    <tr>\n",
       "      <th>75%</th>\n",
       "      <td>2565514.000</td>\n",
       "      <td>37935.000</td>\n",
       "      <td>11.000</td>\n",
       "      <td>1.000</td>\n",
       "    </tr>\n",
       "    <tr>\n",
       "      <th>max</th>\n",
       "      <td>3421083.000</td>\n",
       "      <td>49688.000</td>\n",
       "      <td>145.000</td>\n",
       "      <td>1.000</td>\n",
       "    </tr>\n",
       "  </tbody>\n",
       "</table>\n",
       "</div>"
      ],
      "text/plain": [
       "          order_id   product_id  add_to_cart_order    reordered\n",
       "count 32434489.000 32434489.000       32434489.000 32434489.000\n",
       "mean   1710748.519    25576.338              8.351        0.590\n",
       "std     987300.696    14096.689              7.127        0.492\n",
       "min          2.000        1.000              1.000        0.000\n",
       "25%     855943.000    13530.000              3.000        0.000\n",
       "50%    1711048.000    25256.000              6.000        1.000\n",
       "75%    2565514.000    37935.000             11.000        1.000\n",
       "max    3421083.000    49688.000            145.000        1.000"
      ]
     },
     "execution_count": 78,
     "metadata": {},
     "output_type": "execute_result"
    }
   ],
   "source": [
    "# Set the display option for float format\n",
    "pd.set_option('display.float_format', lambda x: '%.3f' % x)\n",
    "\n",
    "df_order_products_prior.describe()"
   ]
  },
  {
   "cell_type": "markdown",
   "id": "5873c74e",
   "metadata": {},
   "source": [
    "order_id: The **order_id** ranges from 2 to 3,421,083 with a mean of approximately 1,710,749 - our data set is correct and clean, the orders are evenly distributed throughout the dataset.\n",
    "\n",
    "product_id: The **product_id** has values ranging from 1 to 49,688, indicating a wide variety of products. The mean product ID is about 25,576, and the standard deviation is large (14,097), suggesting there is a wide distribution in the popularity of products.\n",
    "\n",
    "add_to_cart_order: On average, products are added as the 8.35th item in the cart, but this varies with a standard deviation of about 7.13. The max value of 145 indicates that there are some orders with a lot of items. Since the median (50%) is 6, most orders have fewer items, and the distribution is right-skewed with some very large orders.\n",
    "\n",
    "reordered: The **reordered** column, which is binary, shows that about 59% of the products in the dataset are reorders. There is a strong tendency for items to be reordered.\n",
    "\n",
    "Quartile information for **add_to_cart_order** shows that at least **25%** of products are added to the cart in the first 3 positions, and at least 75% are added within the first 11 positions, indicating that most products are added to the cart relatively early in the shopping session."
   ]
  },
  {
   "cell_type": "code",
   "execution_count": 41,
   "id": "3c13d4ef",
   "metadata": {
    "scrolled": true
   },
   "outputs": [
    {
     "data": {
      "text/plain": [
       "False"
      ]
     },
     "execution_count": 41,
     "metadata": {},
     "output_type": "execute_result"
    }
   ],
   "source": [
    "# Check for nulls\n",
    "df_order_products_prior.isna().sum().any()"
   ]
  },
  {
   "cell_type": "code",
   "execution_count": 42,
   "id": "a3ad68a1",
   "metadata": {},
   "outputs": [
    {
     "data": {
      "text/plain": [
       "0           False\n",
       "1           False\n",
       "2           False\n",
       "3           False\n",
       "4           False\n",
       "            ...  \n",
       "32434484    False\n",
       "32434485    False\n",
       "32434486    False\n",
       "32434487    False\n",
       "32434488    False\n",
       "Length: 32434489, dtype: bool"
      ]
     },
     "execution_count": 42,
     "metadata": {},
     "output_type": "execute_result"
    }
   ],
   "source": [
    "# Check duplicate rows\n",
    "df_order_products_prior.duplicated()"
   ]
  },
  {
   "cell_type": "markdown",
   "id": "3e3a1ba1",
   "metadata": {},
   "source": [
    "**\"Prior orders\"** for a given set of users are their previous historical orders excluding their latest orders (which are found in the \"train\"). This is the largest set of order data. This data can be used to train predictive models to predict future purchasing behavior based on a user's purchase history.\n",
    "\n",
    "The **\"prior\"** dataset is crucial for understanding the patterns and habits of users over time, which can be essential for tasks such as creating recommendation systems or forecasting demand. It's one of the key datasets we should use to gain insights into customer behavior and to build features that could help us to predict future activity."
   ]
  },
  {
   "cell_type": "markdown",
   "id": "46e12a47",
   "metadata": {},
   "source": [
    "## Part 2: EDA\n",
    "<a id='Part2'></a>"
   ]
  },
  {
   "cell_type": "code",
   "execution_count": 69,
   "id": "e17750a1",
   "metadata": {},
   "outputs": [
    {
     "data": {
      "image/png": "[encoded data removed]",
      "text/plain": [
       "<Figure size 1000x400 with 1 Axes>"
      ]
     },
     "metadata": {},
     "output_type": "display_data"
    }
   ],
   "source": [
    "# Let's take a look at the distribution of these columns in detail.\n",
    "# Let's visualize the data to get an idea of it:\n",
    "\n",
    "# Create a histogram for the 'add_to_cart_order' column\n",
    "plt.figure(figsize=(10, 4)) \n",
    "plt.hist(df_order_products_prior['add_to_cart_order'], bins=15, color='skyblue', edgecolor='black')\n",
    "plt.gcf().set_facecolor('#EBF9FB') \n",
    "\n",
    "# Set the titles and labels\n",
    "plt.ylabel(\"Frequency\")\n",
    "plt.xlabel('Add to Cart Order')\n",
    "plt.title('Distribution of Add to Cart Order')\n",
    "\n",
    "# Adding median and mean lines\n",
    "plt.axvline(df_order_products_prior['add_to_cart_order'].mean(), color=\"red\", label=\"Mean\")\n",
    "plt.axvline(df_order_products_prior['add_to_cart_order'].median(), color=\"gold\", label=\"Median\")\n",
    "plt.legend()\n",
    "plt.tight_layout()"
   ]
  },
  {
   "cell_type": "markdown",
   "id": "255627b3",
   "metadata": {},
   "source": [
    "Add to Cart Order Data has many outliers with a long tail to the right, indicating a right-skewed distribution. We can log transform later **Add to Cart Order** distribution."
   ]
  },
  {
   "cell_type": "code",
   "execution_count": 55,
   "id": "8e25ff4b",
   "metadata": {},
   "outputs": [
    {
     "data": {
      "text/plain": [
       "reordered\n",
       "0    339532546472\n",
       "1    490022891981\n",
       "Name: product_id, dtype: int64"
      ]
     },
     "execution_count": 55,
     "metadata": {},
     "output_type": "execute_result"
    }
   ],
   "source": [
    "# Create the bar chart for binary column Reordered:\n",
    "# Group the data by 'Product id' and sum 'Reordered' value:\n",
    "reordered_status = df_order_products_prior.groupby('reordered')['product_id'].sum()\n",
    "reordered_status\n"
   ]
  },
  {
   "cell_type": "code",
   "execution_count": 62,
   "id": "01fdb0b2",
   "metadata": {},
   "outputs": [
    {
     "data": {
      "image/png": "[encoded data removed]",
      "text/plain": [
       "<Figure size 640x480 with 1 Axes>"
      ]
     },
     "metadata": {},
     "output_type": "display_data"
    }
   ],
   "source": [
    "plt.figure()\n",
    "plt.bar(reordered_status.index, reordered_status.values, color=['blue', 'orange'])\n",
    "\n",
    "# Adding title and labels\n",
    "plt.title('Reordered Status Distribution')\n",
    "plt.xlabel('Status')\n",
    "plt.ylabel('Frequency')\n",
    "plt.gcf().set_facecolor('#EBF9FB')\n",
    "plt.xticks(ticks=reordered_status.index, labels=['Reordered', 'Not Reordered'], rotation='horizontal')\n",
    "plt.xticks(rotation='vertical')\n",
    "plt.tight_layout()"
   ]
  },
  {
   "cell_type": "markdown",
   "id": "e954474d",
   "metadata": {},
   "source": [
    "On this graph we can visually observe that approximately 59% of the products in the dataset are marked as reorders (36% more than not reordered). There is a clear tendency for items to be reordered."
   ]
  },
  {
   "cell_type": "code",
   "execution_count": 77,
   "id": "723bdb26",
   "metadata": {},
   "outputs": [
    {
     "data": {
      "image/png": "[encoded data removed]",
      "text/plain": [
       "<Figure size 1200x600 with 1 Axes>"
      ]
     },
     "metadata": {},
     "output_type": "display_data"
    }
   ],
   "source": [
    "# Calculate the reorder probability for each add_to_cart_order\n",
    "reorder_prob_by_add_to_cart = df_order_products_prior.groupby('add_to_cart_order')['reordered'].mean()\n",
    "\n",
    "# Create a bar chart for better visibility if there are many unique add_to_cart_order positions\n",
    "plt.figure(figsize=(12, 6))\n",
    "reorder_prob_by_add_to_cart.plot(kind='line', color='skyblue', marker='o')\n",
    "\n",
    "# Set titles and labels\n",
    "plt.title('Reorder Probability by Add to Cart Order Position')\n",
    "plt.xlabel('Add to Cart Order Position')\n",
    "plt.ylabel('Reorder Probability')\n",
    "plt.xticks(rotation=90) \n",
    "\n",
    "plt.tight_layout()"
   ]
  },
  {
   "cell_type": "markdown",
   "id": "87938f0d",
   "metadata": {},
   "source": [
    "From the visualization, it can be observed that:\n",
    "\n",
    "-The reorder probability starts high when items are added first to the cart and generally declines as the add-to-cart order position increases.\n",
    "\n",
    "-There is a notable decline in reorder probability from the first to subsequent positions, with a more gradual decline following the initial positions.\n",
    "\n",
    "-There is a notable spike around 90th position in the cart order (almost as high as the third position item in the cart).\n",
    "\n",
    "-At the very high end of the add-to-cart order positions (beyond 100), the graph shows a pattern of spikes where the probability shoots up to higher levels at specific positions. These could be due to less frequent, but consistent reordering of certain niche items in really big orders."
   ]
  },
  {
   "cell_type": "markdown",
   "id": "7c384c8f",
   "metadata": {},
   "source": [
    "#### Let´s have an overview at **Orders** data set:"
   ]
  },
  {
   "cell_type": "code",
   "execution_count": 22,
   "id": "e3cba290",
   "metadata": {},
   "outputs": [],
   "source": [
    "df_orders = pd.read_csv('data/orders.csv')"
   ]
  },
  {
   "cell_type": "code",
   "execution_count": 39,
   "id": "7ddcb201",
   "metadata": {},
   "outputs": [
    {
     "data": {
      "text/html": [
       "<div>\n",
       "<style scoped>\n",
       "    .dataframe tbody tr th:only-of-type {\n",
       "        vertical-align: middle;\n",
       "    }\n",
       "\n",
       "    .dataframe tbody tr th {\n",
       "        vertical-align: top;\n",
       "    }\n",
       "\n",
       "    .dataframe thead th {\n",
       "        text-align: right;\n",
       "    }\n",
       "</style>\n",
       "<table border=\"1\" class=\"dataframe\">\n",
       "  <thead>\n",
       "    <tr style=\"text-align: right;\">\n",
       "      <th></th>\n",
       "      <th>order_id</th>\n",
       "      <th>user_id</th>\n",
       "      <th>eval_set</th>\n",
       "      <th>order_number</th>\n",
       "      <th>order_dow</th>\n",
       "      <th>order_hour_of_day</th>\n",
       "      <th>days_since_prior_order</th>\n",
       "    </tr>\n",
       "  </thead>\n",
       "  <tbody>\n",
       "    <tr>\n",
       "      <th>1</th>\n",
       "      <td>2398795</td>\n",
       "      <td>1</td>\n",
       "      <td>prior</td>\n",
       "      <td>2</td>\n",
       "      <td>3</td>\n",
       "      <td>7</td>\n",
       "      <td>15.0</td>\n",
       "    </tr>\n",
       "    <tr>\n",
       "      <th>2</th>\n",
       "      <td>473747</td>\n",
       "      <td>1</td>\n",
       "      <td>prior</td>\n",
       "      <td>3</td>\n",
       "      <td>3</td>\n",
       "      <td>12</td>\n",
       "      <td>21.0</td>\n",
       "    </tr>\n",
       "    <tr>\n",
       "      <th>3</th>\n",
       "      <td>2254736</td>\n",
       "      <td>1</td>\n",
       "      <td>prior</td>\n",
       "      <td>4</td>\n",
       "      <td>4</td>\n",
       "      <td>7</td>\n",
       "      <td>29.0</td>\n",
       "    </tr>\n",
       "    <tr>\n",
       "      <th>4</th>\n",
       "      <td>431534</td>\n",
       "      <td>1</td>\n",
       "      <td>prior</td>\n",
       "      <td>5</td>\n",
       "      <td>4</td>\n",
       "      <td>15</td>\n",
       "      <td>28.0</td>\n",
       "    </tr>\n",
       "    <tr>\n",
       "      <th>5</th>\n",
       "      <td>3367565</td>\n",
       "      <td>1</td>\n",
       "      <td>prior</td>\n",
       "      <td>6</td>\n",
       "      <td>2</td>\n",
       "      <td>7</td>\n",
       "      <td>19.0</td>\n",
       "    </tr>\n",
       "    <tr>\n",
       "      <th>...</th>\n",
       "      <td>...</td>\n",
       "      <td>...</td>\n",
       "      <td>...</td>\n",
       "      <td>...</td>\n",
       "      <td>...</td>\n",
       "      <td>...</td>\n",
       "      <td>...</td>\n",
       "    </tr>\n",
       "    <tr>\n",
       "      <th>3421078</th>\n",
       "      <td>2266710</td>\n",
       "      <td>206209</td>\n",
       "      <td>prior</td>\n",
       "      <td>10</td>\n",
       "      <td>5</td>\n",
       "      <td>18</td>\n",
       "      <td>29.0</td>\n",
       "    </tr>\n",
       "    <tr>\n",
       "      <th>3421079</th>\n",
       "      <td>1854736</td>\n",
       "      <td>206209</td>\n",
       "      <td>prior</td>\n",
       "      <td>11</td>\n",
       "      <td>4</td>\n",
       "      <td>10</td>\n",
       "      <td>30.0</td>\n",
       "    </tr>\n",
       "    <tr>\n",
       "      <th>3421080</th>\n",
       "      <td>626363</td>\n",
       "      <td>206209</td>\n",
       "      <td>prior</td>\n",
       "      <td>12</td>\n",
       "      <td>1</td>\n",
       "      <td>12</td>\n",
       "      <td>18.0</td>\n",
       "    </tr>\n",
       "    <tr>\n",
       "      <th>3421081</th>\n",
       "      <td>2977660</td>\n",
       "      <td>206209</td>\n",
       "      <td>prior</td>\n",
       "      <td>13</td>\n",
       "      <td>1</td>\n",
       "      <td>12</td>\n",
       "      <td>7.0</td>\n",
       "    </tr>\n",
       "    <tr>\n",
       "      <th>3421082</th>\n",
       "      <td>272231</td>\n",
       "      <td>206209</td>\n",
       "      <td>train</td>\n",
       "      <td>14</td>\n",
       "      <td>6</td>\n",
       "      <td>14</td>\n",
       "      <td>30.0</td>\n",
       "    </tr>\n",
       "  </tbody>\n",
       "</table>\n",
       "<p>3214874 rows × 7 columns</p>\n",
       "</div>"
      ],
      "text/plain": [
       "         order_id  user_id eval_set  order_number  order_dow  \\\n",
       "1         2398795        1    prior             2          3   \n",
       "2          473747        1    prior             3          3   \n",
       "3         2254736        1    prior             4          4   \n",
       "4          431534        1    prior             5          4   \n",
       "5         3367565        1    prior             6          2   \n",
       "...           ...      ...      ...           ...        ...   \n",
       "3421078   2266710   206209    prior            10          5   \n",
       "3421079   1854736   206209    prior            11          4   \n",
       "3421080    626363   206209    prior            12          1   \n",
       "3421081   2977660   206209    prior            13          1   \n",
       "3421082    272231   206209    train            14          6   \n",
       "\n",
       "         order_hour_of_day  days_since_prior_order  \n",
       "1                        7                    15.0  \n",
       "2                       12                    21.0  \n",
       "3                        7                    29.0  \n",
       "4                       15                    28.0  \n",
       "5                        7                    19.0  \n",
       "...                    ...                     ...  \n",
       "3421078                 18                    29.0  \n",
       "3421079                 10                    30.0  \n",
       "3421080                 12                    18.0  \n",
       "3421081                 12                     7.0  \n",
       "3421082                 14                    30.0  \n",
       "\n",
       "[3214874 rows x 7 columns]"
      ]
     },
     "execution_count": 39,
     "metadata": {},
     "output_type": "execute_result"
    }
   ],
   "source": [
    "df_orders"
   ]
  },
  {
   "cell_type": "markdown",
   "id": "78c32c73",
   "metadata": {},
   "source": [
    "The data includes observations related to orders realized by users with the **ID information** of the user and their **order**, **Day of the week** when the order was realized, **hour of day** and the number of **days since prior order**. No outliers or wrong data stand out above as it is a clean data set."
   ]
  },
  {
   "cell_type": "markdown",
   "id": "0d136338",
   "metadata": {},
   "source": [
    "What categorical data is stored: How is it distributed:"
   ]
  },
  {
   "cell_type": "code",
   "execution_count": 31,
   "id": "9011d729",
   "metadata": {},
   "outputs": [
    {
     "data": {
      "text/plain": [
       "eval_set\n",
       "prior    3008665\n",
       "train     131209\n",
       "test       75000\n",
       "Name: count, dtype: int64"
      ]
     },
     "execution_count": 31,
     "metadata": {},
     "output_type": "execute_result"
    }
   ],
   "source": [
    "df_orders[\"eval_set\"].value_counts()"
   ]
  },
  {
   "cell_type": "markdown",
   "id": "fa5d0b92",
   "metadata": {},
   "source": [
    "The data set contains numerical and categorical data. Column **\"eval_set\"** contains prior, train and test data.\n",
    "\n",
    "The **prior set** is used for feature engineering and understanding historical customer behavior.\n",
    "\n",
    "The **train set** is used to train machine learning models to predict future behavior based on historical data.\n",
    "\n",
    "The **test set** is used to evaluate the performance of the models in predicting unseen data. The actual labels for this set are usually withheld in a competition setting to test the model's predictive power. \n",
    "\n",
    "The NaN value in the column **days_since_prior_order** suggests it's the user's first order or the data for the prior order is not available."
   ]
  },
  {
   "cell_type": "code",
   "execution_count": 24,
   "id": "49d5d044",
   "metadata": {},
   "outputs": [
    {
     "data": {
      "text/plain": [
       "True"
      ]
     },
     "execution_count": 24,
     "metadata": {},
     "output_type": "execute_result"
    }
   ],
   "source": [
    "df_orders.isna().sum().any()"
   ]
  },
  {
   "cell_type": "code",
   "execution_count": 25,
   "id": "ee1f881a",
   "metadata": {},
   "outputs": [
    {
     "name": "stdout",
     "output_type": "stream",
     "text": [
      "<class 'pandas.core.frame.DataFrame'>\n",
      "RangeIndex: 3421083 entries, 0 to 3421082\n",
      "Data columns (total 7 columns):\n",
      " #   Column                  Dtype  \n",
      "---  ------                  -----  \n",
      " 0   order_id                int64  \n",
      " 1   user_id                 int64  \n",
      " 2   eval_set                object \n",
      " 3   order_number            int64  \n",
      " 4   order_dow               int64  \n",
      " 5   order_hour_of_day       int64  \n",
      " 6   days_since_prior_order  float64\n",
      "dtypes: float64(1), int64(5), object(1)\n",
      "memory usage: 182.7+ MB\n"
     ]
    }
   ],
   "source": [
    "df_orders.info()"
   ]
  },
  {
   "cell_type": "code",
   "execution_count": 26,
   "id": "b3cd2c3d",
   "metadata": {},
   "outputs": [
    {
     "data": {
      "text/plain": [
       "0          False\n",
       "1          False\n",
       "2          False\n",
       "3          False\n",
       "4          False\n",
       "           ...  \n",
       "3421078    False\n",
       "3421079    False\n",
       "3421080    False\n",
       "3421081    False\n",
       "3421082    False\n",
       "Length: 3421083, dtype: bool"
      ]
     },
     "execution_count": 26,
     "metadata": {},
     "output_type": "execute_result"
    }
   ],
   "source": [
    "# Check duplicate rows\n",
    "df_orders.duplicated()"
   ]
  },
  {
   "cell_type": "code",
   "execution_count": 27,
   "id": "2899c5be",
   "metadata": {},
   "outputs": [
    {
     "data": {
      "text/plain": [
       "0"
      ]
     },
     "execution_count": 27,
     "metadata": {},
     "output_type": "execute_result"
    }
   ],
   "source": [
    "df_orders.duplicated().sum()"
   ]
  },
  {
   "cell_type": "code",
   "execution_count": 28,
   "id": "07e47042",
   "metadata": {
    "scrolled": true
   },
   "outputs": [
    {
     "data": {
      "text/plain": [
       "order_id                       0\n",
       "user_id                        0\n",
       "eval_set                       0\n",
       "order_number                   0\n",
       "order_dow                      0\n",
       "order_hour_of_day              0\n",
       "days_since_prior_order    206209\n",
       "dtype: int64"
      ]
     },
     "execution_count": 28,
     "metadata": {},
     "output_type": "execute_result"
    }
   ],
   "source": [
    "# Check for nulls\n",
    "df_orders.isna().sum()"
   ]
  },
  {
   "cell_type": "markdown",
   "id": "23b31043",
   "metadata": {},
   "source": [
    "The only column with null values is ¨Days since prior order¨. These are the users that did not have prior orders on the platform. Lets see the percentage of the null values:"
   ]
  },
  {
   "cell_type": "code",
   "execution_count": 29,
   "id": "ddaf34d6",
   "metadata": {},
   "outputs": [
    {
     "data": {
      "text/plain": [
       "order_id                  0.000000\n",
       "user_id                   0.000000\n",
       "eval_set                  0.000000\n",
       "order_number              0.000000\n",
       "order_dow                 0.000000\n",
       "order_hour_of_day         0.000000\n",
       "days_since_prior_order    6.027594\n",
       "dtype: float64"
      ]
     },
     "execution_count": 29,
     "metadata": {},
     "output_type": "execute_result"
    }
   ],
   "source": [
    "df_orders.isna().mean()*100"
   ]
  },
  {
   "cell_type": "markdown",
   "id": "aa44f36c",
   "metadata": {},
   "source": [
    "For now, lets drop the null values for the numeric analysis:"
   ]
  },
  {
   "cell_type": "code",
   "execution_count": 30,
   "id": "1422c044",
   "metadata": {},
   "outputs": [],
   "source": [
    "df_orders = df_orders.dropna()"
   ]
  },
  {
   "cell_type": "code",
   "execution_count": 79,
   "id": "48fa1d2f",
   "metadata": {},
   "outputs": [
    {
     "data": {
      "text/html": [
       "<div>\n",
       "<style scoped>\n",
       "    .dataframe tbody tr th:only-of-type {\n",
       "        vertical-align: middle;\n",
       "    }\n",
       "\n",
       "    .dataframe tbody tr th {\n",
       "        vertical-align: top;\n",
       "    }\n",
       "\n",
       "    .dataframe thead th {\n",
       "        text-align: right;\n",
       "    }\n",
       "</style>\n",
       "<table border=\"1\" class=\"dataframe\">\n",
       "  <thead>\n",
       "    <tr style=\"text-align: right;\">\n",
       "      <th></th>\n",
       "      <th>order_id</th>\n",
       "      <th>user_id</th>\n",
       "      <th>order_number</th>\n",
       "      <th>order_dow</th>\n",
       "      <th>order_hour_of_day</th>\n",
       "      <th>days_since_prior_order</th>\n",
       "    </tr>\n",
       "  </thead>\n",
       "  <tbody>\n",
       "    <tr>\n",
       "      <th>count</th>\n",
       "      <td>3214874.000</td>\n",
       "      <td>3214874.000</td>\n",
       "      <td>3214874.000</td>\n",
       "      <td>3214874.000</td>\n",
       "      <td>3214874.000</td>\n",
       "      <td>3214874.000</td>\n",
       "    </tr>\n",
       "    <tr>\n",
       "      <th>mean</th>\n",
       "      <td>1710675.426</td>\n",
       "      <td>102970.075</td>\n",
       "      <td>18.191</td>\n",
       "      <td>2.778</td>\n",
       "      <td>13.441</td>\n",
       "      <td>11.115</td>\n",
       "    </tr>\n",
       "    <tr>\n",
       "      <th>std</th>\n",
       "      <td>987546.573</td>\n",
       "      <td>59534.113</td>\n",
       "      <td>17.799</td>\n",
       "      <td>2.045</td>\n",
       "      <td>4.226</td>\n",
       "      <td>9.207</td>\n",
       "    </tr>\n",
       "    <tr>\n",
       "      <th>min</th>\n",
       "      <td>1.000</td>\n",
       "      <td>1.000</td>\n",
       "      <td>2.000</td>\n",
       "      <td>0.000</td>\n",
       "      <td>0.000</td>\n",
       "      <td>0.000</td>\n",
       "    </tr>\n",
       "    <tr>\n",
       "      <th>25%</th>\n",
       "      <td>855547.250</td>\n",
       "      <td>51385.000</td>\n",
       "      <td>6.000</td>\n",
       "      <td>1.000</td>\n",
       "      <td>10.000</td>\n",
       "      <td>4.000</td>\n",
       "    </tr>\n",
       "    <tr>\n",
       "      <th>50%</th>\n",
       "      <td>1710834.500</td>\n",
       "      <td>102662.000</td>\n",
       "      <td>12.000</td>\n",
       "      <td>3.000</td>\n",
       "      <td>13.000</td>\n",
       "      <td>7.000</td>\n",
       "    </tr>\n",
       "    <tr>\n",
       "      <th>75%</th>\n",
       "      <td>2565904.750</td>\n",
       "      <td>154372.000</td>\n",
       "      <td>25.000</td>\n",
       "      <td>5.000</td>\n",
       "      <td>16.000</td>\n",
       "      <td>15.000</td>\n",
       "    </tr>\n",
       "    <tr>\n",
       "      <th>max</th>\n",
       "      <td>3421083.000</td>\n",
       "      <td>206209.000</td>\n",
       "      <td>100.000</td>\n",
       "      <td>6.000</td>\n",
       "      <td>23.000</td>\n",
       "      <td>30.000</td>\n",
       "    </tr>\n",
       "  </tbody>\n",
       "</table>\n",
       "</div>"
      ],
      "text/plain": [
       "         order_id     user_id  order_number   order_dow  order_hour_of_day  \\\n",
       "count 3214874.000 3214874.000   3214874.000 3214874.000        3214874.000   \n",
       "mean  1710675.426  102970.075        18.191       2.778             13.441   \n",
       "std    987546.573   59534.113        17.799       2.045              4.226   \n",
       "min         1.000       1.000         2.000       0.000              0.000   \n",
       "25%    855547.250   51385.000         6.000       1.000             10.000   \n",
       "50%   1710834.500  102662.000        12.000       3.000             13.000   \n",
       "75%   2565904.750  154372.000        25.000       5.000             16.000   \n",
       "max   3421083.000  206209.000       100.000       6.000             23.000   \n",
       "\n",
       "       days_since_prior_order  \n",
       "count             3214874.000  \n",
       "mean                   11.115  \n",
       "std                     9.207  \n",
       "min                     0.000  \n",
       "25%                     4.000  \n",
       "50%                     7.000  \n",
       "75%                    15.000  \n",
       "max                    30.000  "
      ]
     },
     "execution_count": 79,
     "metadata": {},
     "output_type": "execute_result"
    }
   ],
   "source": [
    "# Set the display option for float format\n",
    "pd.set_option('display.float_format', lambda x: '%.3f' % x)\n",
    "df_orders.describe()"
   ]
  },
  {
   "cell_type": "markdown",
   "id": "f43bb9ba",
   "metadata": {},
   "source": [
    "order_number: The average (mean) **order number** is 18.191, which implies that on average, users have placed around 18 orders. The standard deviation is relatively high at 17.799, indicating a wide variation in the number of orders per user. The maximum number of orders placed by a single user is 100, pointing to some very active users.\n",
    "\n",
    "order_dow (day of the week): Orders are placed every day of the week, with values from 0 to 6 (0 for Sunday). The mean close to 3 suggests a uniform distribution across the week with a slight peak around midweek.\n",
    "\n",
    "order_hour_of_day: Orders are placed at all hours, with the mean at around 13:00 (1 PM). The hours range from 0 to 23, covering all times during the day.\n",
    "\n",
    "days_since_prior_order: On average, there are 11.115 days between orders. The standard deviation is 9.207 days, indicating variability in how frequently customers reorder. A maximum of 30 days suggests that there may be a cap on the recorded value.\n",
    "\n",
    "The quartiles (25%, 50%, 75%) provide additional insights:\n",
    "\n",
    "For **order_number**, half of the orders are placed by users by their 12th order, and 75% of orders are within a user's first 25 orders.\n",
    "The **order_hour_of_day** quartiles show that most orders are placed between 10 AM and 4 PM.\n",
    "The **days_since_prior_order** quartiles suggest that a significant portion of orders is made within one week of the previous order, with 25% of reorders made within 4 days or less."
   ]
  },
  {
   "cell_type": "markdown",
   "id": "d1a5a1d6",
   "metadata": {},
   "source": [
    "### Exploring the data"
   ]
  },
  {
   "cell_type": "markdown",
   "id": "0fca4e6c",
   "metadata": {},
   "source": [
    "Let's take a look at the distribution of these columns in detail.\n",
    "Let's visualize the data to get an idea of it:"
   ]
  },
  {
   "cell_type": "code",
   "execution_count": 35,
   "id": "0a4ea492",
   "metadata": {},
   "outputs": [
    {
     "data": {
      "image/png": "[encoded data removed]",
      "text/plain": [
       "<Figure size 2000x1000 with 6 Axes>"
      ]
     },
     "metadata": {},
     "output_type": "display_data"
    }
   ],
   "source": [
    "# We will be making 3 rows x 2 columns of subplots\n",
    "plt.subplots(3,2, figsize=(20,10))\n",
    "\n",
    "# Creating the for loop\n",
    "for slot_num, column in enumerate(numeric_df_orders.columns, start=1):\n",
    "    # Creating a hist for every iteration\n",
    "    plt.subplot(3,2, slot_num)\n",
    "    plt.hist(numeric_df_orders[column], bins=15)\n",
    "    plt.gcf().set_facecolor('#EBF9FB')\n",
    "\n",
    "    # Set the titles and labels\n",
    "    plt.ylabel(\"Frequency\")\n",
    "    plt.xlabel(column)\n",
    "    plt.title(column)\n",
    "\n",
    "    # Adding median and mean lines\n",
    "    plt.axvline(numeric_df_orders[column].mean(), c=\"red\", label=\"mean\")\n",
    "    plt.axvline(numeric_df_orders[column].median(), c=\"gold\", label=\"median\")\n",
    "    \n",
    "plt.tight_layout()"
   ]
  },
  {
   "cell_type": "markdown",
   "id": "0b75d21c",
   "metadata": {},
   "source": [
    "Histograms can help us to understand ordering habits of customers, such as how frequently they order, which days of the week are busiest, and what times of day are most popular for placing orders:\n",
    "\n",
    "order_number Histogram: There's a right-skew data, indicating that first-time orders are most common, with the frequency decreasing as the order number increases. We can apply log transformation later.\n",
    "\n",
    "order_dow (day of week) Histogram: Orders are fairly evenly distributed throughout the week, with a slight increase for the day 0 and 1 (Sunday and Monday).\n",
    "\n",
    "order_hour_of_day Histogram: There are some peaks, during the daytime hours, indicating when customers are most active in placing orders.\n",
    "\n",
    "days_since_prior_order Histogram: There's a noticeable peak at the 7-day mark, which might indicate that many customers place orders on a weekly basis. There's also a significant peak at the 30-day mark, suggesting a monthly ordering pattern for some customers."
   ]
  },
  {
   "cell_type": "markdown",
   "id": "24426077",
   "metadata": {},
   "source": [
    "### What is the average number of orders for each hour? What trends can we notice?"
   ]
  },
  {
   "cell_type": "code",
   "execution_count": 94,
   "id": "b16256bf",
   "metadata": {},
   "outputs": [
    {
     "data": {
      "image/png": "[encoded data removed]",
      "text/plain": [
       "<Figure size 800x400 with 1 Axes>"
      ]
     },
     "metadata": {},
     "output_type": "display_data"
    }
   ],
   "source": [
    "# Grouping by 'order_hour_of_day' and 'user_id' and then counting the number of orders\n",
    "hourly_orders = numeric_df_orders.groupby(['order_hour_of_day', 'user_id']).size().reset_index(name='order_count')\n",
    "\n",
    "# Now, to get the average number of orders per hour per user, group by 'order_hour_of_day' and calculate the mean of 'order_count'.\n",
    "av_hourly_per_user = hourly_orders.groupby('order_hour_of_day')['order_count'].mean()\n",
    "\n",
    "# Plotting\n",
    "plt.figure(figsize=(8, 4))\n",
    "plt.plot(av_hourly_per_user.index, av_hourly_per_user.values, marker='o')\n",
    "\n",
    "# Label the axes and add a title\n",
    "plt.xlabel('Hour of Day')\n",
    "plt.ylabel('Average Orders per User')\n",
    "plt.title('Average Number of Orders per User per Hour')\n",
    "sns.despine()  "
   ]
  },
  {
   "cell_type": "markdown",
   "id": "b4c267eb",
   "metadata": {},
   "source": [
    "A clear peak is observed in the morning hours,with the highest point around 9am and 11am, suggesting that users tend to place the most orders during this time. This peak could be indicative of users ordering groceries for the day or taking advantage of early morning time slots. The average then gradually declines as the day progresses, reaching its lowest point in the late evening hours."
   ]
  },
  {
   "cell_type": "markdown",
   "id": "81cf2458",
   "metadata": {},
   "source": [
    "### What is the average number of orders for each day of the week? What trends can we notice?\n"
   ]
  },
  {
   "cell_type": "code",
   "execution_count": 95,
   "id": "7373b303",
   "metadata": {},
   "outputs": [
    {
     "data": {
      "image/png": "[encoded data removed]",
      "text/plain": [
       "<Figure size 800x400 with 1 Axes>"
      ]
     },
     "metadata": {},
     "output_type": "display_data"
    }
   ],
   "source": [
    "# Grouping by 'order_hour_of_day' and 'user_id' and then counting the number of orders\n",
    "weekly_orders = numeric_df_orders.groupby(['order_dow', 'user_id']).size().reset_index(name='order_count')\n",
    "\n",
    "# Now, to get the average number of orders per hour per user, group by 'order_hour_of_day' and calculate the mean of 'order_count'.\n",
    "av_weekly_per_user = hourly_orders.groupby('order_dow')['order_count'].mean()\n",
    "\n",
    "# Plotting\n",
    "plt.figure(figsize=(8, 4))\n",
    "plt.plot(av_hourly_per_user.index, av_hourly_per_user.values, marker='o')\n",
    "\n",
    "# Label the axes and add a title\n",
    "plt.xlabel('Day of the week')\n",
    "plt.ylabel('Average Orders per User')\n",
    "plt.title('Average Number of Orders per User per Day of the week')\n",
    "sns.despine()  "
   ]
  },
  {
   "cell_type": "markdown",
   "id": "34a2fac5",
   "metadata": {},
   "source": [
    "Sunday is the most popular day for orders, with a gradual decrease leading to the lowest numbers on Wednesday and Thursday, followed by a slow increase towards the end of the week."
   ]
  },
  {
   "cell_type": "code",
   "execution_count": 97,
   "id": "b90510f6",
   "metadata": {},
   "outputs": [
    {
     "data": {
      "image/png": "[encoded data removed]",
      "text/plain": [
       "<Figure size 800x400 with 1 Axes>"
      ]
     },
     "metadata": {},
     "output_type": "display_data"
    }
   ],
   "source": [
    "# Grouping by 'order_hour_of_day' and 'user_id' and then counting the number of orders\n",
    "last_order_day = numeric_df_orders.groupby(['days_since_prior_order', 'user_id']).size().reset_index(name='order_count')\n",
    "\n",
    "# Now, to get the average number of orders per hour per user, group by 'order_hour_of_day' and calculate the mean of 'order_count'.\n",
    "av_hourly_per_user = last_order_day.groupby('days_since_prior_order')['order_count'].mean()\n",
    "\n",
    "# Plotting\n",
    "plt.figure(figsize=(8, 4))\n",
    "plt.plot(av_hourly_per_user.index, av_hourly_per_user.values, marker='o')\n",
    "\n",
    "# Label the axes and add a title\n",
    "plt.xlabel('Days since last order')\n",
    "plt.ylabel('Average Orders per User')\n",
    "plt.title('Average Number of Orders per Days since last order')\n",
    "sns.despine()  "
   ]
  },
  {
   "cell_type": "markdown",
   "id": "57cddc91",
   "metadata": {},
   "source": [
    "There's an initial peak at around the 3-day mark, indicating that users are likely to place more orders if a few days have passed since their last order.\n",
    "The graph then shows a downward trend until approximately day 10, suggesting a decrease in the average number of orders as more days elapse.\n",
    "After day 10, the average number of orders stabilizes with minor fluctuations until it reaches day 30, where there's a significant spike, indicating a substantial increase in the average number of orders placed after a month has passed since the last order."
   ]
  },
  {
   "cell_type": "markdown",
   "id": "982a1848",
   "metadata": {},
   "source": [
    "To continue with the statistical analysis, we will split the **order** dataset by matching its **eval_set** categories with the **df_products_train** and **df_products_prior** datasets. The **df_products_test** dataset was not provided by the company to prevent data leakage."
   ]
  },
  {
   "cell_type": "markdown",
   "id": "e26f8d72",
   "metadata": {},
   "source": [
    "# Hyphotheses\n",
    "<a id='H'></a>"
   ]
  },
  {
   "cell_type": "markdown",
   "id": "4765203f",
   "metadata": {},
   "source": [
    "When conducting further analysis on our Instacart Market Basket dataset, we can already formulate several hypotheses:\n",
    "\n",
    "1. **Reorder Frequency Hypothesis**:\n",
    "   - Products with lower add-to-cart order positions have a higher probability of being reordered.\n",
    "   - Certain days of the week or times of day have higher reorder rates due to routine shopping habits.\n",
    "\n",
    "2. **Product Popularity Hypothesis**:\n",
    "   - Some aisles or departments have a significantly higher number of reorders, indicating more popular or essential items.\n",
    "   - The variety of products in a user's order decreases with the number of orders, suggesting users settle into buying familiar items.\n",
    "\n",
    "3. **Customer Segmentation Hypothesis**:\n",
    "   - Customers can be segmented into distinct groups based on their reorder patterns, with some segments showing a higher propensity for trying new products.\n",
    "   - The frequency of orders is indicative of customer segments; for example, frequent shoppers might have different buying patterns compared to infrequent shoppers.\n",
    "\n",
    "4. **Order Size Hypothesis**:\n",
    "   - Larger order sizes are correlated with a lower probability of item reorders due to the diversity of items in a single order.\n",
    "   - Smaller orders are more likely to contain items that are frequently reordered.\n",
    "\n",
    "5. **Product Association Hypothesis**:\n",
    "   - There are strong association rules between certain products, suggesting that if a customer buys one product, they are likely to buy another related product.\n",
    "\n",
    "6. **User Behavior Hypothesis**:\n",
    "   - New users have different purchasing patterns compared to established users, such as trying a wider variety of products before establishing a routine.\n",
    "\n",
    "7. **Product Lifecycle Hypothesis**:\n",
    "   - Products have a lifecycle, with new products having a different reorder pattern compared to established products.\n",
    "\n",
    " These hypotheses serve us as starting points for in-depth analysis. We will continue investigating, with the usage of data visualization tools, appropriate statistical tests, and applying a machine learning models on the data set."
   ]
  },
  {
   "cell_type": "markdown",
   "id": "b6520e28",
   "metadata": {},
   "source": [
    "### [BACK TO INDEX](#INDEX)"
   ]
  }
 ],
 "metadata": {
  "authors": [
   {
    "name": "Dariia Vasylieva"
   }
  ],
  "kernelspec": {
   "display_name": "Python 3 (ipykernel)",
   "language": "python",
   "name": "python3"
  },
  "language_info": {
   "codemirror_mode": {
    "name": "ipython",
    "version": 3
   },
   "file_extension": ".py",
   "mimetype": "text/x-python",
   "name": "python",
   "nbconvert_exporter": "python",
   "pygments_lexer": "ipython3",
   "version": "3.11.5"
  },
  "title": "Dariia_Vasylieva_Unit2"
 },
 "nbformat": 4,
 "nbformat_minor": 5
}
