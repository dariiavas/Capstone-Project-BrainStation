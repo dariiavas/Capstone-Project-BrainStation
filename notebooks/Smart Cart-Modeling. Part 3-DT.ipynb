{
 "cells": [
  {
   "cell_type": "markdown",
   "id": "ddc0fe14",
   "metadata": {},
   "source": [
    "# INDEX\n",
    "\n",
    "[Smart Cart. Part 4](#BM)\n",
    "\n",
    "- [Decision Tree](#7)\n",
    "- [Hyperparameter Tuning](#HT)\n",
    "- [Grid Search 1](#GS)\n",
    "- [Grid Search 2](#GS2)\n",
    "- [Model evaluation](#ME)\n",
    "- [Conclusion](#C)\n",
    "\n",
    "<a id='INDEX'></a>"
   ]
  },
  {
   "cell_type": "markdown",
   "id": "3d95af5b",
   "metadata": {},
   "source": [
    "This notebook is a contiinuation of a Smart Cart Capstone Baseline model creation. In this part we will run Decision Tree Classifier model together with Hyperparameter Tuning - Grid Search with Cross-Validation within a Pipeline for hyperparameter tuning in machine learning."
   ]
  },
  {
   "cell_type": "markdown",
   "id": "258dad89",
   "metadata": {},
   "source": [
    "---"
   ]
  },
  {
   "cell_type": "code",
   "execution_count": 2,
   "id": "a7f4b9e6",
   "metadata": {
    "scrolled": true
   },
   "outputs": [],
   "source": [
    "# Import required libraries:\n",
    "import pandas as pd\n",
    "import numpy as np\n",
    "import matplotlib.pyplot as plt\n",
    "import seaborn as sns\n",
    "\n",
    "# Get rid of warning message\n",
    "import warnings\n",
    "warnings.filterwarnings('ignore')"
   ]
  },
  {
   "cell_type": "code",
   "execution_count": 2,
   "id": "2aff2282",
   "metadata": {},
   "outputs": [
    {
     "data": {
      "text/html": [
       "<div>\n",
       "<style scoped>\n",
       "    .dataframe tbody tr th:only-of-type {\n",
       "        vertical-align: middle;\n",
       "    }\n",
       "\n",
       "    .dataframe tbody tr th {\n",
       "        vertical-align: top;\n",
       "    }\n",
       "\n",
       "    .dataframe thead th {\n",
       "        text-align: right;\n",
       "    }\n",
       "</style>\n",
       "<table border=\"1\" class=\"dataframe\">\n",
       "  <thead>\n",
       "    <tr style=\"text-align: right;\">\n",
       "      <th></th>\n",
       "      <th>aa</th>\n",
       "      <th>acai</th>\n",
       "      <th>ad</th>\n",
       "      <th>age</th>\n",
       "      <th>air</th>\n",
       "      <th>ale</th>\n",
       "      <th>alfresco</th>\n",
       "      <th>almond</th>\n",
       "      <th>almondmilk</th>\n",
       "      <th>altern</th>\n",
       "      <th>...</th>\n",
       "      <th>yam</th>\n",
       "      <th>yellow</th>\n",
       "      <th>yoghurt</th>\n",
       "      <th>yogurt</th>\n",
       "      <th>yokid</th>\n",
       "      <th>zero</th>\n",
       "      <th>zucchini</th>\n",
       "      <th>add_to_cart_order</th>\n",
       "      <th>order_number</th>\n",
       "      <th>days_since_prior_order</th>\n",
       "    </tr>\n",
       "  </thead>\n",
       "  <tbody>\n",
       "    <tr>\n",
       "      <th>0</th>\n",
       "      <td>0</td>\n",
       "      <td>0</td>\n",
       "      <td>0</td>\n",
       "      <td>0</td>\n",
       "      <td>0</td>\n",
       "      <td>0</td>\n",
       "      <td>0</td>\n",
       "      <td>0</td>\n",
       "      <td>0</td>\n",
       "      <td>0</td>\n",
       "      <td>...</td>\n",
       "      <td>0</td>\n",
       "      <td>0</td>\n",
       "      <td>0</td>\n",
       "      <td>0</td>\n",
       "      <td>0</td>\n",
       "      <td>0</td>\n",
       "      <td>0</td>\n",
       "      <td>4</td>\n",
       "      <td>10</td>\n",
       "      <td>30.0</td>\n",
       "    </tr>\n",
       "    <tr>\n",
       "      <th>1</th>\n",
       "      <td>0</td>\n",
       "      <td>0</td>\n",
       "      <td>0</td>\n",
       "      <td>0</td>\n",
       "      <td>0</td>\n",
       "      <td>0</td>\n",
       "      <td>0</td>\n",
       "      <td>0</td>\n",
       "      <td>0</td>\n",
       "      <td>0</td>\n",
       "      <td>...</td>\n",
       "      <td>0</td>\n",
       "      <td>0</td>\n",
       "      <td>0</td>\n",
       "      <td>0</td>\n",
       "      <td>0</td>\n",
       "      <td>0</td>\n",
       "      <td>0</td>\n",
       "      <td>3</td>\n",
       "      <td>7</td>\n",
       "      <td>7.0</td>\n",
       "    </tr>\n",
       "    <tr>\n",
       "      <th>2</th>\n",
       "      <td>0</td>\n",
       "      <td>0</td>\n",
       "      <td>0</td>\n",
       "      <td>0</td>\n",
       "      <td>0</td>\n",
       "      <td>0</td>\n",
       "      <td>0</td>\n",
       "      <td>0</td>\n",
       "      <td>0</td>\n",
       "      <td>0</td>\n",
       "      <td>...</td>\n",
       "      <td>0</td>\n",
       "      <td>0</td>\n",
       "      <td>0</td>\n",
       "      <td>0</td>\n",
       "      <td>0</td>\n",
       "      <td>0</td>\n",
       "      <td>0</td>\n",
       "      <td>20</td>\n",
       "      <td>21</td>\n",
       "      <td>8.0</td>\n",
       "    </tr>\n",
       "    <tr>\n",
       "      <th>3</th>\n",
       "      <td>0</td>\n",
       "      <td>0</td>\n",
       "      <td>0</td>\n",
       "      <td>0</td>\n",
       "      <td>0</td>\n",
       "      <td>0</td>\n",
       "      <td>0</td>\n",
       "      <td>0</td>\n",
       "      <td>0</td>\n",
       "      <td>0</td>\n",
       "      <td>...</td>\n",
       "      <td>0</td>\n",
       "      <td>0</td>\n",
       "      <td>0</td>\n",
       "      <td>0</td>\n",
       "      <td>0</td>\n",
       "      <td>0</td>\n",
       "      <td>0</td>\n",
       "      <td>22</td>\n",
       "      <td>8</td>\n",
       "      <td>30.0</td>\n",
       "    </tr>\n",
       "    <tr>\n",
       "      <th>4</th>\n",
       "      <td>0</td>\n",
       "      <td>0</td>\n",
       "      <td>0</td>\n",
       "      <td>0</td>\n",
       "      <td>0</td>\n",
       "      <td>0</td>\n",
       "      <td>0</td>\n",
       "      <td>0</td>\n",
       "      <td>0</td>\n",
       "      <td>0</td>\n",
       "      <td>...</td>\n",
       "      <td>0</td>\n",
       "      <td>0</td>\n",
       "      <td>0</td>\n",
       "      <td>0</td>\n",
       "      <td>0</td>\n",
       "      <td>0</td>\n",
       "      <td>0</td>\n",
       "      <td>21</td>\n",
       "      <td>26</td>\n",
       "      <td>13.0</td>\n",
       "    </tr>\n",
       "    <tr>\n",
       "      <th>...</th>\n",
       "      <td>...</td>\n",
       "      <td>...</td>\n",
       "      <td>...</td>\n",
       "      <td>...</td>\n",
       "      <td>...</td>\n",
       "      <td>...</td>\n",
       "      <td>...</td>\n",
       "      <td>...</td>\n",
       "      <td>...</td>\n",
       "      <td>...</td>\n",
       "      <td>...</td>\n",
       "      <td>...</td>\n",
       "      <td>...</td>\n",
       "      <td>...</td>\n",
       "      <td>...</td>\n",
       "      <td>...</td>\n",
       "      <td>...</td>\n",
       "      <td>...</td>\n",
       "      <td>...</td>\n",
       "      <td>...</td>\n",
       "      <td>...</td>\n",
       "    </tr>\n",
       "    <tr>\n",
       "      <th>1107688</th>\n",
       "      <td>0</td>\n",
       "      <td>0</td>\n",
       "      <td>0</td>\n",
       "      <td>0</td>\n",
       "      <td>0</td>\n",
       "      <td>0</td>\n",
       "      <td>0</td>\n",
       "      <td>0</td>\n",
       "      <td>0</td>\n",
       "      <td>0</td>\n",
       "      <td>...</td>\n",
       "      <td>0</td>\n",
       "      <td>0</td>\n",
       "      <td>0</td>\n",
       "      <td>0</td>\n",
       "      <td>0</td>\n",
       "      <td>0</td>\n",
       "      <td>0</td>\n",
       "      <td>6</td>\n",
       "      <td>100</td>\n",
       "      <td>4.0</td>\n",
       "    </tr>\n",
       "    <tr>\n",
       "      <th>1107689</th>\n",
       "      <td>0</td>\n",
       "      <td>0</td>\n",
       "      <td>0</td>\n",
       "      <td>0</td>\n",
       "      <td>0</td>\n",
       "      <td>0</td>\n",
       "      <td>0</td>\n",
       "      <td>0</td>\n",
       "      <td>0</td>\n",
       "      <td>0</td>\n",
       "      <td>...</td>\n",
       "      <td>0</td>\n",
       "      <td>0</td>\n",
       "      <td>0</td>\n",
       "      <td>0</td>\n",
       "      <td>0</td>\n",
       "      <td>0</td>\n",
       "      <td>0</td>\n",
       "      <td>4</td>\n",
       "      <td>4</td>\n",
       "      <td>20.0</td>\n",
       "    </tr>\n",
       "    <tr>\n",
       "      <th>1107690</th>\n",
       "      <td>0</td>\n",
       "      <td>0</td>\n",
       "      <td>0</td>\n",
       "      <td>0</td>\n",
       "      <td>0</td>\n",
       "      <td>0</td>\n",
       "      <td>0</td>\n",
       "      <td>0</td>\n",
       "      <td>0</td>\n",
       "      <td>0</td>\n",
       "      <td>...</td>\n",
       "      <td>0</td>\n",
       "      <td>0</td>\n",
       "      <td>0</td>\n",
       "      <td>0</td>\n",
       "      <td>0</td>\n",
       "      <td>0</td>\n",
       "      <td>0</td>\n",
       "      <td>7</td>\n",
       "      <td>8</td>\n",
       "      <td>18.0</td>\n",
       "    </tr>\n",
       "    <tr>\n",
       "      <th>1107691</th>\n",
       "      <td>0</td>\n",
       "      <td>0</td>\n",
       "      <td>0</td>\n",
       "      <td>0</td>\n",
       "      <td>0</td>\n",
       "      <td>0</td>\n",
       "      <td>0</td>\n",
       "      <td>0</td>\n",
       "      <td>0</td>\n",
       "      <td>0</td>\n",
       "      <td>...</td>\n",
       "      <td>0</td>\n",
       "      <td>0</td>\n",
       "      <td>0</td>\n",
       "      <td>0</td>\n",
       "      <td>0</td>\n",
       "      <td>0</td>\n",
       "      <td>0</td>\n",
       "      <td>12</td>\n",
       "      <td>8</td>\n",
       "      <td>30.0</td>\n",
       "    </tr>\n",
       "    <tr>\n",
       "      <th>1107692</th>\n",
       "      <td>0</td>\n",
       "      <td>0</td>\n",
       "      <td>0</td>\n",
       "      <td>0</td>\n",
       "      <td>0</td>\n",
       "      <td>0</td>\n",
       "      <td>0</td>\n",
       "      <td>0</td>\n",
       "      <td>0</td>\n",
       "      <td>0</td>\n",
       "      <td>...</td>\n",
       "      <td>0</td>\n",
       "      <td>0</td>\n",
       "      <td>0</td>\n",
       "      <td>0</td>\n",
       "      <td>0</td>\n",
       "      <td>0</td>\n",
       "      <td>0</td>\n",
       "      <td>3</td>\n",
       "      <td>13</td>\n",
       "      <td>25.0</td>\n",
       "    </tr>\n",
       "  </tbody>\n",
       "</table>\n",
       "<p>1107693 rows × 503 columns</p>\n",
       "</div>"
      ],
      "text/plain": [
       "         aa  acai  ad  age  air  ale  alfresco  almond  almondmilk  altern  \\\n",
       "0         0     0   0    0    0    0         0       0           0       0   \n",
       "1         0     0   0    0    0    0         0       0           0       0   \n",
       "2         0     0   0    0    0    0         0       0           0       0   \n",
       "3         0     0   0    0    0    0         0       0           0       0   \n",
       "4         0     0   0    0    0    0         0       0           0       0   \n",
       "...      ..   ...  ..  ...  ...  ...       ...     ...         ...     ...   \n",
       "1107688   0     0   0    0    0    0         0       0           0       0   \n",
       "1107689   0     0   0    0    0    0         0       0           0       0   \n",
       "1107690   0     0   0    0    0    0         0       0           0       0   \n",
       "1107691   0     0   0    0    0    0         0       0           0       0   \n",
       "1107692   0     0   0    0    0    0         0       0           0       0   \n",
       "\n",
       "         ...  yam  yellow  yoghurt  yogurt  yokid  zero  zucchini  \\\n",
       "0        ...    0       0        0       0      0     0         0   \n",
       "1        ...    0       0        0       0      0     0         0   \n",
       "2        ...    0       0        0       0      0     0         0   \n",
       "3        ...    0       0        0       0      0     0         0   \n",
       "4        ...    0       0        0       0      0     0         0   \n",
       "...      ...  ...     ...      ...     ...    ...   ...       ...   \n",
       "1107688  ...    0       0        0       0      0     0         0   \n",
       "1107689  ...    0       0        0       0      0     0         0   \n",
       "1107690  ...    0       0        0       0      0     0         0   \n",
       "1107691  ...    0       0        0       0      0     0         0   \n",
       "1107692  ...    0       0        0       0      0     0         0   \n",
       "\n",
       "         add_to_cart_order  order_number  days_since_prior_order  \n",
       "0                        4            10                    30.0  \n",
       "1                        3             7                     7.0  \n",
       "2                       20            21                     8.0  \n",
       "3                       22             8                    30.0  \n",
       "4                       21            26                    13.0  \n",
       "...                    ...           ...                     ...  \n",
       "1107688                  6           100                     4.0  \n",
       "1107689                  4             4                    20.0  \n",
       "1107690                  7             8                    18.0  \n",
       "1107691                 12             8                    30.0  \n",
       "1107692                  3            13                    25.0  \n",
       "\n",
       "[1107693 rows x 503 columns]"
      ]
     },
     "execution_count": 2,
     "metadata": {},
     "output_type": "execute_result"
    }
   ],
   "source": [
    "# Download the final train orders version of our dataframe - combined train dataset:\n",
    "X_test = pd.read_csv('data/X_test_final.csv')\n",
    "X_train = pd.read_csv('data/X_train_final.csv')\n",
    "X_train"
   ]
  },
  {
   "cell_type": "code",
   "execution_count": 3,
   "id": "e2a02e8a",
   "metadata": {
    "scrolled": false
   },
   "outputs": [
    {
     "data": {
      "text/html": [
       "<div>\n",
       "<style scoped>\n",
       "    .dataframe tbody tr th:only-of-type {\n",
       "        vertical-align: middle;\n",
       "    }\n",
       "\n",
       "    .dataframe tbody tr th {\n",
       "        vertical-align: top;\n",
       "    }\n",
       "\n",
       "    .dataframe thead th {\n",
       "        text-align: right;\n",
       "    }\n",
       "</style>\n",
       "<table border=\"1\" class=\"dataframe\">\n",
       "  <thead>\n",
       "    <tr style=\"text-align: right;\">\n",
       "      <th></th>\n",
       "      <th>reordered</th>\n",
       "    </tr>\n",
       "  </thead>\n",
       "  <tbody>\n",
       "    <tr>\n",
       "      <th>0</th>\n",
       "      <td>0</td>\n",
       "    </tr>\n",
       "    <tr>\n",
       "      <th>1</th>\n",
       "      <td>1</td>\n",
       "    </tr>\n",
       "    <tr>\n",
       "      <th>2</th>\n",
       "      <td>0</td>\n",
       "    </tr>\n",
       "    <tr>\n",
       "      <th>3</th>\n",
       "      <td>0</td>\n",
       "    </tr>\n",
       "    <tr>\n",
       "      <th>4</th>\n",
       "      <td>1</td>\n",
       "    </tr>\n",
       "    <tr>\n",
       "      <th>...</th>\n",
       "      <td>...</td>\n",
       "    </tr>\n",
       "    <tr>\n",
       "      <th>1107688</th>\n",
       "      <td>0</td>\n",
       "    </tr>\n",
       "    <tr>\n",
       "      <th>1107689</th>\n",
       "      <td>1</td>\n",
       "    </tr>\n",
       "    <tr>\n",
       "      <th>1107690</th>\n",
       "      <td>1</td>\n",
       "    </tr>\n",
       "    <tr>\n",
       "      <th>1107691</th>\n",
       "      <td>0</td>\n",
       "    </tr>\n",
       "    <tr>\n",
       "      <th>1107692</th>\n",
       "      <td>1</td>\n",
       "    </tr>\n",
       "  </tbody>\n",
       "</table>\n",
       "<p>1107693 rows × 1 columns</p>\n",
       "</div>"
      ],
      "text/plain": [
       "         reordered\n",
       "0                0\n",
       "1                1\n",
       "2                0\n",
       "3                0\n",
       "4                1\n",
       "...            ...\n",
       "1107688          0\n",
       "1107689          1\n",
       "1107690          1\n",
       "1107691          0\n",
       "1107692          1\n",
       "\n",
       "[1107693 rows x 1 columns]"
      ]
     },
     "execution_count": 3,
     "metadata": {},
     "output_type": "execute_result"
    }
   ],
   "source": [
    "# Download the final train orders version of our dataframe - combined train dataset:\n",
    "y_test = pd.read_csv('data/y_test_final.csv')\n",
    "y_train = pd.read_csv('data/y_train_final.csv')\n",
    "y_train"
   ]
  },
  {
   "cell_type": "markdown",
   "id": "6a6e4346",
   "metadata": {},
   "source": [
    "Data sets were downloaded correctly."
   ]
  },
  {
   "cell_type": "markdown",
   "id": "075e7df1",
   "metadata": {},
   "source": [
    "## Decision Tree\n",
    "<a id='7'></a>"
   ]
  },
  {
   "cell_type": "markdown",
   "id": "15724197",
   "metadata": {},
   "source": [
    "The next model to perform is Decision Tree Classifier. It will create decision boundaries by probing further into our data."
   ]
  },
  {
   "cell_type": "code",
   "execution_count": 4,
   "id": "47dc1426",
   "metadata": {},
   "outputs": [],
   "source": [
    "#import the required library\n",
    "from sklearn.tree import DecisionTreeClassifier\n",
    "\n",
    "#instantiate and fit decision tree classifier\n",
    "#dtc = DecisionTreeClassifier()\n",
    "#dtc.fit(X_train, y_train)\n",
    "\n",
    "#train and test scores\n",
    "#print(f'Train_score: {dtc.score(X_train, y_train)}')\n",
    "#print(f'Tes_score: {dtc.score(X_train, y_train)}')"
   ]
  },
  {
   "cell_type": "markdown",
   "id": "6cd2c4bc",
   "metadata": {},
   "source": [
    "Decision Tree model results:\n",
    "\n",
    "Train_score: 1.0\n",
    "Tes_score: 1.0\n",
    "\n",
    "We can see that the model is clearly overfit which can happen often to Decision Tree models. Lets look for the depth that will prevent the model from overfitting:"
   ]
  },
  {
   "cell_type": "markdown",
   "id": "b05fb0fc",
   "metadata": {},
   "source": [
    "### Hyperparameter Tuning\n",
    "<a id='HT'></a>"
   ]
  },
  {
   "cell_type": "code",
   "execution_count": 5,
   "id": "422a5e74",
   "metadata": {},
   "outputs": [
    {
     "name": "stdout",
     "output_type": "stream",
     "text": [
      "Done with depth 1.\n",
      "Done with depth 3.\n",
      "Done with depth 5.\n",
      "Done with depth 7.\n",
      "Done with depth 9.\n",
      "Done with depth 11.\n",
      "Done with depth 13.\n",
      "Done with depth 15.\n",
      "Done with depth 17.\n",
      "Done with depth 19.\n"
     ]
    }
   ],
   "source": [
    "# range of depth to test\n",
    "depth = range(1,20,2)\n",
    "\n",
    "#Create a list for train and test accuracy\n",
    "train_accuracy = []\n",
    "validation_accuracy = []\n",
    "\n",
    "#Loop through n_components\n",
    "for d in depth:\n",
    "    # Instantiate and fit Decision Tree\n",
    "    tree = DecisionTreeClassifier(max_depth=d, random_state=42)\n",
    "    tree.fit(X_train, y_train)\n",
    "    \n",
    "    # Evaluate the model\n",
    "    train_accuracy.append(tree.score(X_train, y_train))\n",
    "    validation_accuracy.append(tree.score(X_test, y_test))\n",
    "    \n",
    "    #print done statement for each depth\n",
    "    print(f'Done with depth {d}.')"
   ]
  },
  {
   "cell_type": "markdown",
   "id": "8a9e43b9",
   "metadata": {},
   "source": [
    "All of train and test accuracies are stored in lists, we can plot it to find out right max_depth:"
   ]
  },
  {
   "cell_type": "code",
   "execution_count": 6,
   "id": "31733722",
   "metadata": {},
   "outputs": [
    {
     "data": {
      "text/plain": [
       "<matplotlib.legend.Legend at 0x29a822910>"
      ]
     },
     "execution_count": 6,
     "metadata": {},
     "output_type": "execute_result"
    },
    {
     "data": {
      "image/png": "[encoded data removed]",
      "text/plain": [
       "<Figure size 640x480 with 1 Axes>"
      ]
     },
     "metadata": {},
     "output_type": "display_data"
    }
   ],
   "source": [
    "# Train and validation Accuracy vs Depth\n",
    "plt.figure()\n",
    "plt.plot(depth, train_accuracy, label='Train', color='red')\n",
    "plt.plot(depth, validation_accuracy, label='Validation', color='blue')\n",
    "plt.title('Accuracy vs. Depth')\n",
    "plt.xlabel('Depth')\n",
    "plt.ylabel('Accuracy (%)')\n",
    "plt.legend()"
   ]
  },
  {
   "cell_type": "markdown",
   "id": "eceebdfa",
   "metadata": {},
   "source": [
    "After plotting out our train and test accuracies over the range of max_depth that we tested, it is visible that the model starts to overfit after 11. \n",
    "\n",
    "The range between 5 and 11 is the best max_depth range for our model.\n",
    "\n",
    "Next step, Hyperparameter Optimization. A smaller the range for optimization is, less time it takes for the grid search."
   ]
  },
  {
   "cell_type": "markdown",
   "id": "3741354e",
   "metadata": {},
   "source": [
    "### Grid Search 1\n",
    "<a id='GS'></a>"
   ]
  },
  {
   "cell_type": "markdown",
   "id": "4ae82ff8",
   "metadata": {},
   "source": [
    "We are going to perform a 5 fold Cross Validation Grid Search with our Decision Tree model. This will allow us to test a range of specific hyper parameters and will output the best combination. Steps to perform:\n",
    "\n",
    "1. Standard Scaler\n",
    "2. PCA- Principal Component Analysis - reduce dimensionality of the data\n",
    "3. Test a range of 3 hyper parameters: max_depth, min_samples_split, min_samples_leaf"
   ]
  },
  {
   "cell_type": "code",
   "execution_count": 7,
   "id": "627e2ae2",
   "metadata": {
    "scrolled": false
   },
   "outputs": [
    {
     "name": "stdout",
     "output_type": "stream",
     "text": [
      "Fitting 5 folds for each of 18 candidates, totalling 90 fits\n",
      "[CV] END dtc__max_depth=5, dtc__min_samples_leaf=2, dtc__min_samples_split=2; total time=  59.2s\n",
      "[CV] END dtc__max_depth=5, dtc__min_samples_leaf=2, dtc__min_samples_split=2; total time= 1.1min\n",
      "[CV] END dtc__max_depth=5, dtc__min_samples_leaf=2, dtc__min_samples_split=2; total time= 1.1min\n",
      "[CV] END dtc__max_depth=5, dtc__min_samples_leaf=2, dtc__min_samples_split=2; total time= 1.3min\n",
      "[CV] END dtc__max_depth=5, dtc__min_samples_leaf=2, dtc__min_samples_split=2; total time= 1.3min\n",
      "[CV] END dtc__max_depth=5, dtc__min_samples_leaf=2, dtc__min_samples_split=6; total time= 1.4min\n",
      "[CV] END dtc__max_depth=5, dtc__min_samples_leaf=2, dtc__min_samples_split=6; total time= 1.2min\n",
      "[CV] END dtc__max_depth=5, dtc__min_samples_leaf=2, dtc__min_samples_split=6; total time= 1.3min\n",
      "[CV] END dtc__max_depth=5, dtc__min_samples_leaf=2, dtc__min_samples_split=6; total time= 1.3min\n",
      "[CV] END dtc__max_depth=5, dtc__min_samples_leaf=2, dtc__min_samples_split=6; total time= 1.2min\n",
      "[CV] END dtc__max_depth=5, dtc__min_samples_leaf=2, dtc__min_samples_split=10; total time= 1.1min\n",
      "[CV] END dtc__max_depth=5, dtc__min_samples_leaf=2, dtc__min_samples_split=10; total time= 1.1min\n",
      "[CV] END dtc__max_depth=5, dtc__min_samples_leaf=2, dtc__min_samples_split=10; total time= 1.3min\n",
      "[CV] END dtc__max_depth=5, dtc__min_samples_leaf=2, dtc__min_samples_split=10; total time=  53.2s\n",
      "[CV] END dtc__max_depth=5, dtc__min_samples_leaf=2, dtc__min_samples_split=10; total time= 1.4min\n",
      "[CV] END dtc__max_depth=5, dtc__min_samples_leaf=6, dtc__min_samples_split=2; total time=  55.9s\n",
      "[CV] END dtc__max_depth=5, dtc__min_samples_leaf=6, dtc__min_samples_split=2; total time=  56.2s\n",
      "[CV] END dtc__max_depth=5, dtc__min_samples_leaf=6, dtc__min_samples_split=2; total time=  55.0s\n",
      "[CV] END dtc__max_depth=5, dtc__min_samples_leaf=6, dtc__min_samples_split=2; total time=  59.0s\n",
      "[CV] END dtc__max_depth=5, dtc__min_samples_leaf=6, dtc__min_samples_split=2; total time=  55.3s\n",
      "[CV] END dtc__max_depth=5, dtc__min_samples_leaf=6, dtc__min_samples_split=6; total time= 1.2min\n",
      "[CV] END dtc__max_depth=5, dtc__min_samples_leaf=6, dtc__min_samples_split=6; total time= 1.0min\n",
      "[CV] END dtc__max_depth=5, dtc__min_samples_leaf=6, dtc__min_samples_split=6; total time= 1.2min\n",
      "[CV] END dtc__max_depth=5, dtc__min_samples_leaf=6, dtc__min_samples_split=6; total time=  59.6s\n",
      "[CV] END dtc__max_depth=5, dtc__min_samples_leaf=6, dtc__min_samples_split=6; total time= 1.1min\n",
      "[CV] END dtc__max_depth=5, dtc__min_samples_leaf=6, dtc__min_samples_split=10; total time=  54.9s\n",
      "[CV] END dtc__max_depth=5, dtc__min_samples_leaf=6, dtc__min_samples_split=10; total time=  53.9s\n",
      "[CV] END dtc__max_depth=5, dtc__min_samples_leaf=6, dtc__min_samples_split=10; total time=  55.1s\n",
      "[CV] END dtc__max_depth=5, dtc__min_samples_leaf=6, dtc__min_samples_split=10; total time=  56.2s\n",
      "[CV] END dtc__max_depth=5, dtc__min_samples_leaf=6, dtc__min_samples_split=10; total time=  54.0s\n",
      "[CV] END dtc__max_depth=5, dtc__min_samples_leaf=10, dtc__min_samples_split=2; total time=  56.2s\n",
      "[CV] END dtc__max_depth=5, dtc__min_samples_leaf=10, dtc__min_samples_split=2; total time=  58.5s\n",
      "[CV] END dtc__max_depth=5, dtc__min_samples_leaf=10, dtc__min_samples_split=2; total time=  56.8s\n",
      "[CV] END dtc__max_depth=5, dtc__min_samples_leaf=10, dtc__min_samples_split=2; total time=  59.4s\n",
      "[CV] END dtc__max_depth=5, dtc__min_samples_leaf=10, dtc__min_samples_split=2; total time=  56.5s\n",
      "[CV] END dtc__max_depth=5, dtc__min_samples_leaf=10, dtc__min_samples_split=6; total time=  58.7s\n",
      "[CV] END dtc__max_depth=5, dtc__min_samples_leaf=10, dtc__min_samples_split=6; total time=  54.1s\n",
      "[CV] END dtc__max_depth=5, dtc__min_samples_leaf=10, dtc__min_samples_split=6; total time= 1.0min\n",
      "[CV] END dtc__max_depth=5, dtc__min_samples_leaf=10, dtc__min_samples_split=6; total time=  54.7s\n",
      "[CV] END dtc__max_depth=5, dtc__min_samples_leaf=10, dtc__min_samples_split=6; total time= 1.0min\n",
      "[CV] END dtc__max_depth=5, dtc__min_samples_leaf=10, dtc__min_samples_split=10; total time= 1.0min\n",
      "[CV] END dtc__max_depth=5, dtc__min_samples_leaf=10, dtc__min_samples_split=10; total time= 1.3min\n",
      "[CV] END dtc__max_depth=5, dtc__min_samples_leaf=10, dtc__min_samples_split=10; total time= 1.1min\n",
      "[CV] END dtc__max_depth=5, dtc__min_samples_leaf=10, dtc__min_samples_split=10; total time=  57.6s\n",
      "[CV] END dtc__max_depth=5, dtc__min_samples_leaf=10, dtc__min_samples_split=10; total time=  58.9s\n",
      "[CV] END dtc__max_depth=11, dtc__min_samples_leaf=2, dtc__min_samples_split=2; total time= 1.2min\n",
      "[CV] END dtc__max_depth=11, dtc__min_samples_leaf=2, dtc__min_samples_split=2; total time= 1.2min\n",
      "[CV] END dtc__max_depth=11, dtc__min_samples_leaf=2, dtc__min_samples_split=2; total time= 1.2min\n",
      "[CV] END dtc__max_depth=11, dtc__min_samples_leaf=2, dtc__min_samples_split=2; total time= 1.1min\n",
      "[CV] END dtc__max_depth=11, dtc__min_samples_leaf=2, dtc__min_samples_split=2; total time= 1.3min\n",
      "[CV] END dtc__max_depth=11, dtc__min_samples_leaf=2, dtc__min_samples_split=6; total time= 1.1min\n",
      "[CV] END dtc__max_depth=11, dtc__min_samples_leaf=2, dtc__min_samples_split=6; total time= 1.2min\n",
      "[CV] END dtc__max_depth=11, dtc__min_samples_leaf=2, dtc__min_samples_split=6; total time= 1.2min\n",
      "[CV] END dtc__max_depth=11, dtc__min_samples_leaf=2, dtc__min_samples_split=6; total time= 1.1min\n",
      "[CV] END dtc__max_depth=11, dtc__min_samples_leaf=2, dtc__min_samples_split=6; total time= 1.4min\n",
      "[CV] END dtc__max_depth=11, dtc__min_samples_leaf=2, dtc__min_samples_split=10; total time= 1.5min\n",
      "[CV] END dtc__max_depth=11, dtc__min_samples_leaf=2, dtc__min_samples_split=10; total time= 1.1min\n",
      "[CV] END dtc__max_depth=11, dtc__min_samples_leaf=2, dtc__min_samples_split=10; total time= 1.4min\n",
      "[CV] END dtc__max_depth=11, dtc__min_samples_leaf=2, dtc__min_samples_split=10; total time= 1.3min\n",
      "[CV] END dtc__max_depth=11, dtc__min_samples_leaf=2, dtc__min_samples_split=10; total time= 1.1min\n",
      "[CV] END dtc__max_depth=11, dtc__min_samples_leaf=6, dtc__min_samples_split=2; total time= 1.3min\n",
      "[CV] END dtc__max_depth=11, dtc__min_samples_leaf=6, dtc__min_samples_split=2; total time= 1.2min\n",
      "[CV] END dtc__max_depth=11, dtc__min_samples_leaf=6, dtc__min_samples_split=2; total time= 1.5min\n",
      "[CV] END dtc__max_depth=11, dtc__min_samples_leaf=6, dtc__min_samples_split=2; total time= 1.2min\n",
      "[CV] END dtc__max_depth=11, dtc__min_samples_leaf=6, dtc__min_samples_split=2; total time= 1.2min\n",
      "[CV] END dtc__max_depth=11, dtc__min_samples_leaf=6, dtc__min_samples_split=6; total time= 1.2min\n",
      "[CV] END dtc__max_depth=11, dtc__min_samples_leaf=6, dtc__min_samples_split=6; total time= 1.1min\n",
      "[CV] END dtc__max_depth=11, dtc__min_samples_leaf=6, dtc__min_samples_split=6; total time= 1.3min\n",
      "[CV] END dtc__max_depth=11, dtc__min_samples_leaf=6, dtc__min_samples_split=6; total time= 1.1min\n",
      "[CV] END dtc__max_depth=11, dtc__min_samples_leaf=6, dtc__min_samples_split=6; total time= 1.1min\n",
      "[CV] END dtc__max_depth=11, dtc__min_samples_leaf=6, dtc__min_samples_split=10; total time= 1.2min\n",
      "[CV] END dtc__max_depth=11, dtc__min_samples_leaf=6, dtc__min_samples_split=10; total time= 1.7min\n",
      "[CV] END dtc__max_depth=11, dtc__min_samples_leaf=6, dtc__min_samples_split=10; total time= 1.4min\n",
      "[CV] END dtc__max_depth=11, dtc__min_samples_leaf=6, dtc__min_samples_split=10; total time= 1.2min\n",
      "[CV] END dtc__max_depth=11, dtc__min_samples_leaf=6, dtc__min_samples_split=10; total time= 1.4min\n",
      "[CV] END dtc__max_depth=11, dtc__min_samples_leaf=10, dtc__min_samples_split=2; total time= 1.4min\n",
      "[CV] END dtc__max_depth=11, dtc__min_samples_leaf=10, dtc__min_samples_split=2; total time= 1.1min\n",
      "[CV] END dtc__max_depth=11, dtc__min_samples_leaf=10, dtc__min_samples_split=2; total time= 1.2min\n",
      "[CV] END dtc__max_depth=11, dtc__min_samples_leaf=10, dtc__min_samples_split=2; total time= 1.3min\n",
      "[CV] END dtc__max_depth=11, dtc__min_samples_leaf=10, dtc__min_samples_split=2; total time= 1.5min\n",
      "[CV] END dtc__max_depth=11, dtc__min_samples_leaf=10, dtc__min_samples_split=6; total time= 1.1min\n",
      "[CV] END dtc__max_depth=11, dtc__min_samples_leaf=10, dtc__min_samples_split=6; total time= 1.2min\n",
      "[CV] END dtc__max_depth=11, dtc__min_samples_leaf=10, dtc__min_samples_split=6; total time= 1.6min\n"
     ]
    },
    {
     "name": "stdout",
     "output_type": "stream",
     "text": [
      "[CV] END dtc__max_depth=11, dtc__min_samples_leaf=10, dtc__min_samples_split=6; total time= 1.2min\n",
      "[CV] END dtc__max_depth=11, dtc__min_samples_leaf=10, dtc__min_samples_split=6; total time= 1.2min\n",
      "[CV] END dtc__max_depth=11, dtc__min_samples_leaf=10, dtc__min_samples_split=10; total time= 1.4min\n",
      "[CV] END dtc__max_depth=11, dtc__min_samples_leaf=10, dtc__min_samples_split=10; total time= 1.1min\n",
      "[CV] END dtc__max_depth=11, dtc__min_samples_leaf=10, dtc__min_samples_split=10; total time= 1.2min\n",
      "[CV] END dtc__max_depth=11, dtc__min_samples_leaf=10, dtc__min_samples_split=10; total time= 1.2min\n",
      "[CV] END dtc__max_depth=11, dtc__min_samples_leaf=10, dtc__min_samples_split=10; total time= 1.2min\n",
      "Time taken: 6280.634418964386 seconds\n"
     ]
    }
   ],
   "source": [
    "# import gridsearch, pipeline, pca, time\n",
    "from sklearn.model_selection import GridSearchCV\n",
    "from sklearn.pipeline import Pipeline\n",
    "from sklearn.decomposition import PCA\n",
    "import time\n",
    "from sklearn.preprocessing import StandardScaler\n",
    "\n",
    "try:\n",
    "#start time\n",
    "    start_time = time.time()\n",
    "\n",
    "#estimator\n",
    "    estimator = Pipeline([\n",
    "    ('ss', StandardScaler()),\n",
    "    ('pca', PCA(n_components=20)), #PCA needs scaling\n",
    "    ('dtc', DecisionTreeClassifier())\n",
    "])\n",
    "#parameters\n",
    "    params = {\n",
    "    'dtc__max_depth': [5,11], #taken from the graph\n",
    "    'dtc__min_samples_split': [2,6,10],\n",
    "    'dtc__min_samples_leaf': [2,6,10]\n",
    "}\n",
    "#grid search\n",
    "    grid = GridSearchCV(estimator=estimator, param_grid=params, cv=5, verbose=2, refit=False)\n",
    "    grid.fit(X_train, y_train)\n",
    "\n",
    "#end time\n",
    "    end_time = time.time()\n",
    "\n",
    "#print time taken\n",
    "    print(f'Time taken: {end_time - start_time} seconds')\n",
    "\n",
    "except Exception as e:\n",
    "    print(f\"An error occurred: {e}\")"
   ]
  },
  {
   "cell_type": "markdown",
   "id": "87725cb8",
   "metadata": {},
   "source": [
    "Grid Search took approx 105 minutes (1.5 hours) to complete.\n",
    "\n",
    "Extract the best parameters found:"
   ]
  },
  {
   "cell_type": "code",
   "execution_count": 8,
   "id": "ac65219a",
   "metadata": {},
   "outputs": [
    {
     "data": {
      "text/plain": [
       "{'dtc__max_depth': 11,\n",
       " 'dtc__min_samples_leaf': 10,\n",
       " 'dtc__min_samples_split': 6}"
      ]
     },
     "execution_count": 8,
     "metadata": {},
     "output_type": "execute_result"
    }
   ],
   "source": [
    "# best parameters\n",
    "grid.best_params_"
   ]
  },
  {
   "cell_type": "markdown",
   "id": "f886c637",
   "metadata": {},
   "source": [
    "So, best parameters would be max_depth - 11, min_samples_leaf - 10, and min_samples_split - 6.\n",
    "\n",
    "These are all of the parameters tested, we need to continue and perform another grid search to look at the larger values for min_samples_leaf of 8 and min_samples_split. Max_depth wont be increased in order to avoid overfitting of the model.\n",
    "\n",
    "Taking best parameters and fitting them to a new Decision Tree model, so we can make sure the model is no longer overfitting:"
   ]
  },
  {
   "cell_type": "code",
   "execution_count": 11,
   "id": "4ca50c71",
   "metadata": {},
   "outputs": [
    {
     "name": "stdout",
     "output_type": "stream",
     "text": [
      "Train_score: 0.6649116677635409\n",
      "Test_score: 0.6609647412286404\n"
     ]
    }
   ],
   "source": [
    "#instantiate and fit decision tree classifier with best parameters:\n",
    "dtc = DecisionTreeClassifier(max_depth=11, min_samples_leaf=10, min_samples_split=6)\n",
    "dtc.fit(X_train, y_train)\n",
    "\n",
    "#train and test scores\n",
    "print(f'Train_score: {dtc.score(X_train, y_train)}')\n",
    "print(f'Test_score: {dtc.score(X_test, y_test)}')"
   ]
  },
  {
   "cell_type": "markdown",
   "id": "3a310f27",
   "metadata": {},
   "source": [
    "Train_score: 0.6649116677635409\n",
    "Test_score: 0.6609647412286404\n",
    "\n",
    "\n",
    "The model is no longer overfitting. \n",
    "\n",
    "Our train accuracy has significantly decreased from 100% to 66.54% and our test accuracy has decreased from 100% to 66.54%. \n",
    "\n",
    "See classification report and confusion matrix."
   ]
  },
  {
   "cell_type": "code",
   "execution_count": 21,
   "id": "7ea0fde3",
   "metadata": {},
   "outputs": [
    {
     "data": {
      "text/plain": [
       "0.6649865982722649"
      ]
     },
     "execution_count": 21,
     "metadata": {},
     "output_type": "execute_result"
    }
   ],
   "source": [
    "# Training and test score for DTC\n",
    "dtc_train_score = dtc.score(X_train, y_train)\n",
    "dtc_test_score = dtc.score(X_test, y_test)"
   ]
  },
  {
   "cell_type": "code",
   "execution_count": 28,
   "id": "d555955e",
   "metadata": {},
   "outputs": [
    {
     "data": {
      "text/html": [
       "<div>\n",
       "<style scoped>\n",
       "    .dataframe tbody tr th:only-of-type {\n",
       "        vertical-align: middle;\n",
       "    }\n",
       "\n",
       "    .dataframe tbody tr th {\n",
       "        vertical-align: top;\n",
       "    }\n",
       "\n",
       "    .dataframe thead th {\n",
       "        text-align: right;\n",
       "    }\n",
       "</style>\n",
       "<table border=\"1\" class=\"dataframe\">\n",
       "  <thead>\n",
       "    <tr style=\"text-align: right;\">\n",
       "      <th></th>\n",
       "      <th>Hyperparamater</th>\n",
       "      <th>Training Accuracy</th>\n",
       "      <th>Test Accuracy</th>\n",
       "      <th>Notes</th>\n",
       "    </tr>\n",
       "  </thead>\n",
       "  <tbody>\n",
       "    <tr>\n",
       "      <th>Decision Tree</th>\n",
       "      <td>depth=11, min_s_leaf=10, min_s_split=6</td>\n",
       "      <td>0.664987</td>\n",
       "      <td>0.660954</td>\n",
       "      <td>performance is relatively consistent</td>\n",
       "    </tr>\n",
       "  </tbody>\n",
       "</table>\n",
       "</div>"
      ],
      "text/plain": [
       "                                       Hyperparamater  Training Accuracy  \\\n",
       "Decision Tree  depth=11, min_s_leaf=10, min_s_split=6           0.664987   \n",
       "\n",
       "               Test Accuracy                                 Notes  \n",
       "Decision Tree       0.660954  performance is relatively consistent  "
      ]
     },
     "execution_count": 28,
     "metadata": {},
     "output_type": "execute_result"
    }
   ],
   "source": [
    "# Create an empty datafram to store the metrics\n",
    "metrics_df = pd.DataFrame(columns=['Hyperparameter', 'Training Accuracy', 'Test Accuracy', 'Notes'])\n",
    "\n",
    "# Add the metrics for the baseline models\n",
    "metrics_df.loc['Decision Tree'] = ['depth=11, min_s_leaf=10, min_s_split=6',dtc_train_score, dtc_test_score,'performance is relatively consistent']\n",
    "\n",
    "# Print the comparison table\n",
    "metrics_df"
   ]
  },
  {
   "cell_type": "code",
   "execution_count": 12,
   "id": "4a499746",
   "metadata": {},
   "outputs": [
    {
     "name": "stdout",
     "output_type": "stream",
     "text": [
      "              precision    recall  f1-score   support\n",
      "\n",
      "           0       0.60      0.45      0.51    111159\n",
      "           1       0.68      0.80      0.74    165765\n",
      "\n",
      "    accuracy                           0.66    276924\n",
      "   macro avg       0.64      0.63      0.63    276924\n",
      "weighted avg       0.65      0.66      0.65    276924\n",
      "\n",
      "[[ 49778  61381]\n",
      " [ 32506 133259]]\n"
     ]
    }
   ],
   "source": [
    "from sklearn.metrics import classification_report\n",
    "from sklearn.metrics import confusion_matrix\n",
    "\n",
    "# Evaluate the model\n",
    "\n",
    "# Predict on the test data\n",
    "y_pred = dtc.predict(X_test)\n",
    "\n",
    "# Generate and print a classification report to evaluate the model\n",
    "report = classification_report(y_test, y_pred)\n",
    "conf_matrix = confusion_matrix(y_test, y_pred)\n",
    "\n",
    "print(report)\n",
    "print(conf_matrix)"
   ]
  },
  {
   "cell_type": "markdown",
   "id": "eabcbdc4",
   "metadata": {},
   "source": [
    "For class 0, the precision is 0.60, which means that out of all the instances predicted as class 0, 60% were correct. The recall for class 0 is 0.45, indicating that 45% of the actual class 0 instances were correctly predicted.\n",
    "For class 1, the precision is 0.68, suggesting that 68% of the instances predicted as class 1 were correct. The recall for class 1 is 0.80, meaning that 80% of the actual class 1 instances were correctly predicted.\n",
    "F1-Score:\n",
    "\n",
    "The F1-score is a harmonic mean of precision and recall. For class 0, it is 0.51, and for class 1, it is 0.74. These scores provide a balance between precision and recall for each class."
   ]
  },
  {
   "cell_type": "markdown",
   "id": "1bfdc52d",
   "metadata": {},
   "source": [
    "The model appears to perform reasonably well, with higher precision and recall for class 1 compared to class 0. However, there is room for improvement in the model's performance, especially in terms of class 0 where both precision and recall are relatively lower.\n",
    "\n",
    "Precision - % of positive predictions that are actually positive.\n",
    "Recall - % of actual positive predictions that are model predicted as positive."
   ]
  },
  {
   "cell_type": "markdown",
   "id": "43c33cf5",
   "metadata": {},
   "source": [
    "### Grid Search 2\n",
    "<a id='GS2'></a>"
   ]
  },
  {
   "cell_type": "code",
   "execution_count": 13,
   "id": "b7e67d3d",
   "metadata": {},
   "outputs": [
    {
     "name": "stdout",
     "output_type": "stream",
     "text": [
      "Fitting 5 folds for each of 9 candidates, totalling 45 fits\n",
      "[CV] END .dtc__min_samples_leaf=10, dtc__min_samples_split=6; total time= 1.4min\n",
      "[CV] END .dtc__min_samples_leaf=10, dtc__min_samples_split=6; total time= 1.4min\n",
      "[CV] END .dtc__min_samples_leaf=10, dtc__min_samples_split=6; total time= 1.3min\n",
      "[CV] END .dtc__min_samples_leaf=10, dtc__min_samples_split=6; total time= 1.3min\n",
      "[CV] END .dtc__min_samples_leaf=10, dtc__min_samples_split=6; total time= 1.3min\n",
      "[CV] END .dtc__min_samples_leaf=10, dtc__min_samples_split=8; total time= 1.5min\n",
      "[CV] END .dtc__min_samples_leaf=10, dtc__min_samples_split=8; total time= 1.3min\n",
      "[CV] END .dtc__min_samples_leaf=10, dtc__min_samples_split=8; total time= 1.4min\n",
      "[CV] END .dtc__min_samples_leaf=10, dtc__min_samples_split=8; total time= 1.3min\n",
      "[CV] END .dtc__min_samples_leaf=10, dtc__min_samples_split=8; total time= 1.4min\n",
      "[CV] END dtc__min_samples_leaf=10, dtc__min_samples_split=10; total time= 1.3min\n",
      "[CV] END dtc__min_samples_leaf=10, dtc__min_samples_split=10; total time= 1.3min\n",
      "[CV] END dtc__min_samples_leaf=10, dtc__min_samples_split=10; total time= 1.3min\n",
      "[CV] END dtc__min_samples_leaf=10, dtc__min_samples_split=10; total time= 1.3min\n",
      "[CV] END dtc__min_samples_leaf=10, dtc__min_samples_split=10; total time= 1.3min\n",
      "[CV] END .dtc__min_samples_leaf=12, dtc__min_samples_split=6; total time= 1.2min\n",
      "[CV] END .dtc__min_samples_leaf=12, dtc__min_samples_split=6; total time= 1.3min\n",
      "[CV] END .dtc__min_samples_leaf=12, dtc__min_samples_split=6; total time= 1.3min\n",
      "[CV] END .dtc__min_samples_leaf=12, dtc__min_samples_split=6; total time= 1.3min\n",
      "[CV] END .dtc__min_samples_leaf=12, dtc__min_samples_split=6; total time= 1.3min\n",
      "[CV] END .dtc__min_samples_leaf=12, dtc__min_samples_split=8; total time= 1.5min\n",
      "[CV] END .dtc__min_samples_leaf=12, dtc__min_samples_split=8; total time= 1.5min\n",
      "[CV] END .dtc__min_samples_leaf=12, dtc__min_samples_split=8; total time= 1.3min\n",
      "[CV] END .dtc__min_samples_leaf=12, dtc__min_samples_split=8; total time= 1.2min\n",
      "[CV] END .dtc__min_samples_leaf=12, dtc__min_samples_split=8; total time= 1.3min\n",
      "[CV] END dtc__min_samples_leaf=12, dtc__min_samples_split=10; total time= 1.2min\n",
      "[CV] END dtc__min_samples_leaf=12, dtc__min_samples_split=10; total time= 1.5min\n",
      "[CV] END dtc__min_samples_leaf=12, dtc__min_samples_split=10; total time= 1.3min\n",
      "[CV] END dtc__min_samples_leaf=12, dtc__min_samples_split=10; total time= 1.3min\n",
      "[CV] END dtc__min_samples_leaf=12, dtc__min_samples_split=10; total time= 1.4min\n",
      "[CV] END .dtc__min_samples_leaf=15, dtc__min_samples_split=6; total time= 1.4min\n",
      "[CV] END .dtc__min_samples_leaf=15, dtc__min_samples_split=6; total time= 1.2min\n",
      "[CV] END .dtc__min_samples_leaf=15, dtc__min_samples_split=6; total time= 1.3min\n",
      "[CV] END .dtc__min_samples_leaf=15, dtc__min_samples_split=6; total time= 1.3min\n",
      "[CV] END .dtc__min_samples_leaf=15, dtc__min_samples_split=6; total time= 1.3min\n",
      "[CV] END .dtc__min_samples_leaf=15, dtc__min_samples_split=8; total time= 1.3min\n",
      "[CV] END .dtc__min_samples_leaf=15, dtc__min_samples_split=8; total time= 1.2min\n",
      "[CV] END .dtc__min_samples_leaf=15, dtc__min_samples_split=8; total time= 1.3min\n",
      "[CV] END .dtc__min_samples_leaf=15, dtc__min_samples_split=8; total time= 1.2min\n",
      "[CV] END .dtc__min_samples_leaf=15, dtc__min_samples_split=8; total time= 1.2min\n",
      "[CV] END dtc__min_samples_leaf=15, dtc__min_samples_split=10; total time= 1.2min\n",
      "[CV] END dtc__min_samples_leaf=15, dtc__min_samples_split=10; total time= 1.2min\n",
      "[CV] END dtc__min_samples_leaf=15, dtc__min_samples_split=10; total time= 1.3min\n",
      "[CV] END dtc__min_samples_leaf=15, dtc__min_samples_split=10; total time= 1.2min\n",
      "[CV] END dtc__min_samples_leaf=15, dtc__min_samples_split=10; total time= 1.3min\n",
      "Time taken: 3517.5092029571533 seconds\n"
     ]
    }
   ],
   "source": [
    "try:\n",
    "#start time\n",
    "    start_time = time.time()\n",
    "\n",
    "#estimator\n",
    "    estimator = Pipeline([\n",
    "    ('ss', StandardScaler()),\n",
    "    ('pca', PCA(n_components=20)), #PCA needs scaling\n",
    "    ('dtc', DecisionTreeClassifier())\n",
    "])\n",
    "#parameters\n",
    "    params = {\n",
    "    'dtc__min_samples_split': [6, 8, 10],\n",
    "    'dtc__min_samples_leaf': [10, 12, 15]\n",
    "}\n",
    "#grid search\n",
    "    grid2 = GridSearchCV(estimator=estimator, param_grid=params, cv=5, verbose=2, refit=False)\n",
    "    grid2.fit(X_train, y_train)\n",
    "\n",
    "#end time\n",
    "    end_time = time.time()\n",
    "\n",
    "#print time taken\n",
    "    print(f'Time taken: {end_time - start_time} seconds')\n",
    "\n",
    "except Exception as e:\n",
    "    print(f\"An error occurred: {e}\")"
   ]
  },
  {
   "cell_type": "markdown",
   "id": "cf60ff54",
   "metadata": {},
   "source": [
    "Second grid took less time to complete - 59 min.\n",
    "\n",
    "Now, getting the best parameters like in the grid 1:"
   ]
  },
  {
   "cell_type": "code",
   "execution_count": 14,
   "id": "14ec5ed1",
   "metadata": {},
   "outputs": [
    {
     "data": {
      "text/plain": [
       "{'dtc__min_samples_leaf': 15, 'dtc__min_samples_split': 6}"
      ]
     },
     "execution_count": 14,
     "metadata": {},
     "output_type": "execute_result"
    }
   ],
   "source": [
    "# best parameters\n",
    "grid2.best_params_"
   ]
  },
  {
   "cell_type": "markdown",
   "id": "4a021fc1",
   "metadata": {},
   "source": [
    "Best parameters found min_samples_leaf - 15, and min_samples_split - 6.\n",
    "Fitting our parameters to a Decision Tree to check if the scores have increased:"
   ]
  },
  {
   "cell_type": "code",
   "execution_count": 17,
   "id": "0d79429d",
   "metadata": {},
   "outputs": [
    {
     "name": "stdout",
     "output_type": "stream",
     "text": [
      "Train_score: 0.6646516679260409\n",
      "Test_score: 0.6611091851916049\n"
     ]
    }
   ],
   "source": [
    "#instantiate and fit decision tree classifier with best parameters:\n",
    "dtc2 = DecisionTreeClassifier(max_depth=11, min_samples_leaf=15, min_samples_split=6)\n",
    "dtc2.fit(X_train, y_train)\n",
    "\n",
    "#train and test scores\n",
    "print(f'Train_score: {dtc2.score(X_train, y_train)}')\n",
    "print(f'Test_score: {dtc2.score(X_test, y_test)}')"
   ]
  },
  {
   "cell_type": "markdown",
   "id": "97c06437",
   "metadata": {},
   "source": [
    "Train_score: 0.6646516679260409\n",
    "Test_score: 0.6611091851916049\n",
    "\n",
    "Test accuracy have increased to 66,11% where train acc has decreased to 66,47%. The model does not overfit. Lets check classification report and confusion matrix:"
   ]
  },
  {
   "cell_type": "code",
   "execution_count": 30,
   "id": "3e2f9b35",
   "metadata": {},
   "outputs": [],
   "source": [
    "# Training and test score for DTC Regression\n",
    "dtc2_train_score = dtc2.score(X_train, y_train)\n",
    "dtc2_test_score = dtc2.score(X_test, y_test)"
   ]
  },
  {
   "cell_type": "markdown",
   "id": "0f862a14",
   "metadata": {},
   "source": [
    "### Model evaluation\n",
    "<a id='ME'></a>"
   ]
  },
  {
   "cell_type": "code",
   "execution_count": 18,
   "id": "a6ec9622",
   "metadata": {},
   "outputs": [
    {
     "name": "stdout",
     "output_type": "stream",
     "text": [
      "              precision    recall  f1-score   support\n",
      "\n",
      "           0       0.61      0.45      0.52    111159\n",
      "           1       0.68      0.80      0.74    165765\n",
      "\n",
      "    accuracy                           0.66    276924\n",
      "   macro avg       0.64      0.63      0.63    276924\n",
      "weighted avg       0.65      0.66      0.65    276924\n",
      "\n",
      "[[ 49862  61297]\n",
      " [ 32550 133215]]\n"
     ]
    }
   ],
   "source": [
    "# Evaluate the model\n",
    "\n",
    "# Predict on the test data\n",
    "y_pred = dtc2.predict(X_test)\n",
    "\n",
    "# Generate and print a classification report to evaluate the model\n",
    "report = classification_report(y_test, y_pred)\n",
    "conf_matrix = confusion_matrix(y_test, y_pred)\n",
    "\n",
    "print(report)\n",
    "print(conf_matrix)"
   ]
  },
  {
   "cell_type": "markdown",
   "id": "2843ec4b",
   "metadata": {},
   "source": [
    "Both models have the same accuracy of 0.66. \n",
    "Model performance improved for class 0, where precision is 0.61, recall is 0.45, and F1-score is 0.52.\n",
    "\n",
    "The differences between these two results are very marginal. The second result shows a slight improvement in predicting negative cases (Class 0), as indicated by a small increase in precision and F1-score for Class 0, and a small increase in true negatives. \n",
    "\n",
    "However, the overall accuracy and the metrics for Class 1 remain almost identical. This suggests that the changes made between these two models (if any) had a very minor impact, improving the prediction of negatives slightly while maintaining overall performance.\n",
    "\n",
    "\n",
    "Optimized Decision Tree model still performed worse then the base logistic regression model. "
   ]
  },
  {
   "cell_type": "code",
   "execution_count": 32,
   "id": "e08d5dd0",
   "metadata": {},
   "outputs": [
    {
     "data": {
      "text/html": [
       "<div>\n",
       "<style scoped>\n",
       "    .dataframe tbody tr th:only-of-type {\n",
       "        vertical-align: middle;\n",
       "    }\n",
       "\n",
       "    .dataframe tbody tr th {\n",
       "        vertical-align: top;\n",
       "    }\n",
       "\n",
       "    .dataframe thead th {\n",
       "        text-align: right;\n",
       "    }\n",
       "</style>\n",
       "<table border=\"1\" class=\"dataframe\">\n",
       "  <thead>\n",
       "    <tr style=\"text-align: right;\">\n",
       "      <th></th>\n",
       "      <th>Hyperparamater</th>\n",
       "      <th>Training Accuracy</th>\n",
       "      <th>Test Accuracy</th>\n",
       "      <th>Notes</th>\n",
       "    </tr>\n",
       "  </thead>\n",
       "  <tbody>\n",
       "    <tr>\n",
       "      <th>Decision Tree</th>\n",
       "      <td>depth=11, min_s_leaf=10, min_s_split=6</td>\n",
       "      <td>0.664987</td>\n",
       "      <td>0.660954</td>\n",
       "      <td>performance is relatively consistent</td>\n",
       "    </tr>\n",
       "    <tr>\n",
       "      <th>Decision Tree2</th>\n",
       "      <td>depth=11, min_s_leaf=15, min_s_split=6</td>\n",
       "      <td>0.664652</td>\n",
       "      <td>0.661109</td>\n",
       "      <td>Slightly better performance for class 0</td>\n",
       "    </tr>\n",
       "  </tbody>\n",
       "</table>\n",
       "</div>"
      ],
      "text/plain": [
       "                                        Hyperparamater  Training Accuracy  \\\n",
       "Decision Tree   depth=11, min_s_leaf=10, min_s_split=6           0.664987   \n",
       "Decision Tree2  depth=11, min_s_leaf=15, min_s_split=6           0.664652   \n",
       "\n",
       "                Test Accuracy                                    Notes  \n",
       "Decision Tree        0.660954     performance is relatively consistent  \n",
       "Decision Tree2       0.661109  Slightly better performance for class 0  "
      ]
     },
     "execution_count": 32,
     "metadata": {},
     "output_type": "execute_result"
    }
   ],
   "source": [
    "#Summary table\n",
    "# Add the metrics for the baseline models\n",
    "metrics_df.loc['Decision Tree2'] = ['depth=11, min_s_leaf=15, min_s_split=6',dtc2_train_score, dtc2_test_score,'slightly better performance for class 0']\n",
    "\n",
    "# Print the comparison table\n",
    "metrics_df"
   ]
  },
  {
   "cell_type": "code",
   "execution_count": 4,
   "id": "0dbba629",
   "metadata": {},
   "outputs": [
    {
     "data": {
      "text/html": [
       "<div>\n",
       "<style scoped>\n",
       "    .dataframe tbody tr th:only-of-type {\n",
       "        vertical-align: middle;\n",
       "    }\n",
       "\n",
       "    .dataframe tbody tr th {\n",
       "        vertical-align: top;\n",
       "    }\n",
       "\n",
       "    .dataframe thead th {\n",
       "        text-align: right;\n",
       "    }\n",
       "</style>\n",
       "<table border=\"1\" class=\"dataframe\">\n",
       "  <thead>\n",
       "    <tr style=\"text-align: right;\">\n",
       "      <th></th>\n",
       "      <th>Hyperparameter</th>\n",
       "      <th>Training Accuracy</th>\n",
       "      <th>Test Accuracy</th>\n",
       "      <th>Notes</th>\n",
       "    </tr>\n",
       "  </thead>\n",
       "  <tbody>\n",
       "    <tr>\n",
       "      <th>Logistic regression</th>\n",
       "      <td>none</td>\n",
       "      <td>0.66459</td>\n",
       "      <td>0.66392</td>\n",
       "      <td>good performance</td>\n",
       "    </tr>\n",
       "    <tr>\n",
       "      <th>Logistic regression scaled</th>\n",
       "      <td>scaled</td>\n",
       "      <td>0.66574</td>\n",
       "      <td>0.66514</td>\n",
       "      <td>performance improved after scaling</td>\n",
       "    </tr>\n",
       "  </tbody>\n",
       "</table>\n",
       "</div>"
      ],
      "text/plain": [
       "                           Hyperparameter Training Accuracy Test Accuracy  \\\n",
       "Logistic regression                  none           0.66459       0.66392   \n",
       "Logistic regression scaled         scaled           0.66574       0.66514   \n",
       "\n",
       "                                                         Notes  \n",
       "Logistic regression                           good performance  \n",
       "Logistic regression scaled  performance improved after scaling  "
      ]
     },
     "execution_count": 4,
     "metadata": {},
     "output_type": "execute_result"
    }
   ],
   "source": [
    "#Summary table LR model\n",
    "# Create an empty datafram to store the metrics\n",
    "metrics_lr_df = pd.DataFrame(columns=['Hyperparameter', 'Training Accuracy', 'Test Accuracy', 'Notes'])\n",
    "\n",
    "# Add the metrics for the baseline models\n",
    "\n",
    "metrics_lr_df.loc['Logistic regression'] = ['none','0.66459', '0.66392','good performance']\n",
    "metrics_lr_df.loc['Logistic regression scaled'] = ['scaled','0.66574', '0.66514','performance improved after scaling']\n",
    "\n",
    "# Print the comparison table\n",
    "metrics_lr_df"
   ]
  },
  {
   "cell_type": "markdown",
   "id": "ffb63ebf",
   "metadata": {},
   "source": [
    "### Conclusion\n",
    "<a id='C'></a>\n",
    "\n",
    "The best acuracy so far has showed Logistic Regression model. \n",
    "\n",
    "LR model demonstrates a slight improvement in precision for both classes and in recall for Class 1, indicating better overall performance in correctly predicting positive cases.\n",
    "The overall accuracy is slightly higher in the Logistic Regression model.\n",
    "The decrease in recall for Class 0 and the increase in false positives might indicate a slight trade-off, where the model is more biased towards predicting positive cases. This is also reflected in the higher number of true positives.\n",
    "The improvements in the LR model, while marginal, suggest it may be slightly better at balancing precision and recall, especially for Class 1. However, this comes with a slight increase in the false positive rate for Class 0."
   ]
  },
  {
   "cell_type": "markdown",
   "id": "b9f0d150",
   "metadata": {},
   "source": [
    "### [BACK TO INDEX](#INDEX)"
   ]
  }
 ],
 "metadata": {
  "kernelspec": {
   "display_name": "Python 3 (ipykernel)",
   "language": "python",
   "name": "python3"
  },
  "language_info": {
   "codemirror_mode": {
    "name": "ipython",
    "version": 3
   },
   "file_extension": ".py",
   "mimetype": "text/x-python",
   "name": "python",
   "nbconvert_exporter": "python",
   "pygments_lexer": "ipython3",
   "version": "3.11.6"
  }
 },
 "nbformat": 4,
 "nbformat_minor": 5
}
